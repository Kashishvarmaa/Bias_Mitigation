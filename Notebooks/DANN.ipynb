{
 "cells": [
  {
   "cell_type": "markdown",
   "metadata": {},
   "source": [
    "## Domain-Adversarial Neural Networks (DANN) "
   ]
  },
  {
   "cell_type": "code",
   "execution_count": 1,
   "metadata": {},
   "outputs": [],
   "source": [
    "import pandas as pd\n",
    "import torch\n",
    "import torch.nn as nn\n",
    "import torch.optim as optim\n",
    "from sklearn.model_selection import train_test_split\n",
    "from sklearn.preprocessing import LabelEncoder, StandardScaler\n",
    "from torch.utils.data import DataLoader, TensorDataset\n",
    "import seaborn as sns\n",
    "import matplotlib.pyplot as plt"
   ]
  },
  {
   "cell_type": "code",
   "execution_count": 2,
   "metadata": {},
   "outputs": [],
   "source": [
    "# Load the data\n",
    "data = pd.read_csv(\"wholevalue.csv\")"
   ]
  },
  {
   "cell_type": "code",
   "execution_count": null,
   "metadata": {},
   "outputs": [],
   "source": [
    "# Separate features and target\n",
    "sensitive_attr = 'Gender'\n",
    "target = 'Average Course Outcome Level'\n",
    "X = data.drop(columns=[sensitive_attr, target])\n",
    "y = data[target]\n",
    "gender = data[sensitive_attr]\n"
   ]
  },
  {
   "cell_type": "markdown",
   "metadata": {},
   "source": [
    "#### Encoding the values"
   ]
  },
  {
   "cell_type": "code",
   "execution_count": 4,
   "metadata": {},
   "outputs": [],
   "source": [
    "label_encoder = LabelEncoder()\n",
    "for column in X.select_dtypes(include=['object']).columns:\n",
    "    X[column] = label_encoder.fit_transform(X[column])"
   ]
  },
  {
   "cell_type": "code",
   "execution_count": 5,
   "metadata": {},
   "outputs": [],
   "source": [
    "# Normalizing the feature columns\n",
    "scaler = StandardScaler()\n",
    "X_scaled = scaler.fit_transform(X)"
   ]
  },
  {
   "cell_type": "code",
   "execution_count": 6,
   "metadata": {},
   "outputs": [],
   "source": [
    "# Split data into train and test sets\n",
    "X_train, X_test, y_train, y_test, y_gender_train, y_gender_test = train_test_split(\n",
    "    X_scaled, y, gender, test_size=0.2, random_state=42\n",
    ")"
   ]
  },
  {
   "cell_type": "code",
   "execution_count": null,
   "metadata": {},
   "outputs": [],
   "source": [
    "# Convert to tensors\n",
    "X_train = torch.tensor(X_train, dtype=torch.float32)\n",
    "X_test = torch.tensor(X_test, dtype=torch.float32)\n",
    "y_train = torch.tensor(y_train.values, dtype=torch.float32) \n",
    "y_test = torch.tensor(y_test.values, dtype=torch.float32)\n",
    "y_gender_train = torch.tensor(y_gender_train.values, dtype=torch.long)  \n",
    "y_gender_test = torch.tensor(y_gender_test.values, dtype=torch.long)"
   ]
  },
  {
   "cell_type": "code",
   "execution_count": null,
   "metadata": {},
   "outputs": [],
   "source": [
    "# Hyperparameters\n",
    "input_size = X_train.shape[1]  # Number of features\n",
    "batch_size = 32\n",
    "alpha = 1.0  # Weight for adversarial loss "
   ]
  },
  {
   "cell_type": "code",
   "execution_count": null,
   "metadata": {},
   "outputs": [],
   "source": [
    "# Model Definition\n",
    "class DANN(nn.Module):\n",
    "    def __init__(self, input_size):\n",
    "        super(DANN, self).__init__()\n",
    "        self.feature_extractor = nn.Sequential(\n",
    "            nn.Linear(input_size, 64),\n",
    "            nn.ReLU(),\n",
    "            nn.Linear(64, 64)\n",
    "        )\n",
    "        self.label_regressor = nn.Sequential(\n",
    "            nn.Linear(64, 1)  # Regression output for Average Course Outcome Level\n",
    "        )\n",
    "        self.domain_classifier = nn.Sequential(\n",
    "            nn.Linear(64, 2),  # Gender classifier (binary: male or female)\n",
    "            nn.Softmax(dim=1)\n",
    "        )\n",
    "\n",
    "    def forward(self, x, alpha=10.0):\n",
    "        features = self.feature_extractor(x)\n",
    "\n",
    "        # Domain Adversarial Training\n",
    "        domain_out = self.domain_classifier(features)\n",
    "        label_out = self.label_regressor(features)\n",
    "\n",
    "        return label_out, domain_out"
   ]
  },
  {
   "cell_type": "code",
   "execution_count": 40,
   "metadata": {},
   "outputs": [],
   "source": [
    "# Loss and Optimizer\n",
    "label_criterion = nn.MSELoss()  # For regression task (Average Course Outcome Level)\n",
    "domain_criterion = nn.CrossEntropyLoss()  # For binary gender classification\n",
    "model = DANN(input_size)\n",
    "optimizer = optim.Adam(model.parameters(), lr=0.001)"
   ]
  },
  {
   "cell_type": "code",
   "execution_count": 41,
   "metadata": {},
   "outputs": [],
   "source": [
    "# DataLoader setup\n",
    "train_dataset = TensorDataset(X_train, y_train, y_gender_train)\n",
    "train_loader = DataLoader(train_dataset, batch_size=batch_size, shuffle=True)\n",
    "\n",
    "test_dataset = TensorDataset(X_test, y_test, y_gender_test)\n",
    "test_loader = DataLoader(test_dataset, batch_size=batch_size, shuffle=False)"
   ]
  },
  {
   "cell_type": "code",
   "execution_count": 42,
   "metadata": {},
   "outputs": [
    {
     "name": "stdout",
     "output_type": "stream",
     "text": [
      "Demographics (Before Debiasing):\n",
      "0    123\n",
      "1    107\n",
      "Name: count, dtype: int64\n"
     ]
    }
   ],
   "source": [
    "print(\"Demographics (Before Debiasing):\")\n",
    "print(pd.Series(y_gender_train.numpy()).value_counts())"
   ]
  },
  {
   "cell_type": "markdown",
   "metadata": {},
   "source": [
    "#### Training"
   ]
  },
  {
   "cell_type": "code",
   "execution_count": null,
   "metadata": {},
   "outputs": [
    {
     "name": "stdout",
     "output_type": "stream",
     "text": [
      "Epoch [0/10], Step [0/8], Label Loss: 0.4785, Domain Loss: 0.6348, Gender Accuracy: 0.6562\n",
      "Epoch [1/10], Step [0/8], Label Loss: 0.6289, Domain Loss: 0.6389, Gender Accuracy: 0.7188\n",
      "Epoch [2/10], Step [0/8], Label Loss: 0.3854, Domain Loss: 0.5590, Gender Accuracy: 0.8125\n",
      "Epoch [3/10], Step [0/8], Label Loss: 0.5744, Domain Loss: 0.6056, Gender Accuracy: 0.6875\n",
      "Epoch [4/10], Step [0/8], Label Loss: 0.8400, Domain Loss: 0.5321, Gender Accuracy: 0.8125\n",
      "Epoch [5/10], Step [0/8], Label Loss: 0.4336, Domain Loss: 0.6020, Gender Accuracy: 0.6562\n",
      "Epoch [6/10], Step [0/8], Label Loss: 0.6168, Domain Loss: 0.6619, Gender Accuracy: 0.5938\n",
      "Epoch [7/10], Step [0/8], Label Loss: 0.1820, Domain Loss: 0.5773, Gender Accuracy: 0.7812\n",
      "Epoch [8/10], Step [0/8], Label Loss: 0.4721, Domain Loss: 0.6648, Gender Accuracy: 0.5938\n",
      "Epoch [9/10], Step [0/8], Label Loss: 0.7208, Domain Loss: 0.5332, Gender Accuracy: 0.8125\n",
      "Epoch [10/10], Step [0/8], Label Loss: 0.2810, Domain Loss: 0.6040, Gender Accuracy: 0.7812\n",
      "Epoch [11/10], Step [0/8], Label Loss: 0.3971, Domain Loss: 0.5837, Gender Accuracy: 0.7812\n",
      "Epoch [12/10], Step [0/8], Label Loss: 0.3346, Domain Loss: 0.5398, Gender Accuracy: 0.8438\n",
      "Epoch [13/10], Step [0/8], Label Loss: 0.3528, Domain Loss: 0.5812, Gender Accuracy: 0.7500\n",
      "Epoch [14/10], Step [0/8], Label Loss: 0.3495, Domain Loss: 0.6095, Gender Accuracy: 0.7500\n",
      "Epoch [15/10], Step [0/8], Label Loss: 0.4293, Domain Loss: 0.6001, Gender Accuracy: 0.7188\n",
      "Epoch [16/10], Step [0/8], Label Loss: 0.4166, Domain Loss: 0.5668, Gender Accuracy: 0.7188\n",
      "Epoch [17/10], Step [0/8], Label Loss: 0.1782, Domain Loss: 0.5424, Gender Accuracy: 0.8125\n",
      "Epoch [18/10], Step [0/8], Label Loss: 0.3642, Domain Loss: 0.5417, Gender Accuracy: 0.7812\n",
      "Epoch [19/10], Step [0/8], Label Loss: 0.3456, Domain Loss: 0.5487, Gender Accuracy: 0.7812\n",
      "Epoch [20/10], Step [0/8], Label Loss: 0.6068, Domain Loss: 0.5045, Gender Accuracy: 0.8438\n",
      "Epoch [21/10], Step [0/8], Label Loss: 0.3357, Domain Loss: 0.5278, Gender Accuracy: 0.8438\n",
      "Epoch [22/10], Step [0/8], Label Loss: 0.1800, Domain Loss: 0.6199, Gender Accuracy: 0.6250\n",
      "Epoch [23/10], Step [0/8], Label Loss: 0.4894, Domain Loss: 0.4918, Gender Accuracy: 0.8438\n",
      "Epoch [24/10], Step [0/8], Label Loss: 0.3682, Domain Loss: 0.5171, Gender Accuracy: 0.9062\n",
      "Epoch [25/10], Step [0/8], Label Loss: 0.1922, Domain Loss: 0.5445, Gender Accuracy: 0.8438\n",
      "Epoch [26/10], Step [0/8], Label Loss: 0.4548, Domain Loss: 0.6328, Gender Accuracy: 0.7500\n",
      "Epoch [27/10], Step [0/8], Label Loss: 0.4433, Domain Loss: 0.5663, Gender Accuracy: 0.7188\n",
      "Epoch [28/10], Step [0/8], Label Loss: 0.5872, Domain Loss: 0.6115, Gender Accuracy: 0.7188\n",
      "Epoch [29/10], Step [0/8], Label Loss: 0.7139, Domain Loss: 0.5831, Gender Accuracy: 0.7500\n",
      "Epoch [30/10], Step [0/8], Label Loss: 0.3647, Domain Loss: 0.5574, Gender Accuracy: 0.8125\n",
      "Epoch [31/10], Step [0/8], Label Loss: 0.5522, Domain Loss: 0.6919, Gender Accuracy: 0.6562\n",
      "Epoch [32/10], Step [0/8], Label Loss: 0.3583, Domain Loss: 0.6275, Gender Accuracy: 0.7500\n",
      "Epoch [33/10], Step [0/8], Label Loss: 0.1368, Domain Loss: 0.6149, Gender Accuracy: 0.7500\n",
      "Epoch [34/10], Step [0/8], Label Loss: 0.2150, Domain Loss: 0.5685, Gender Accuracy: 0.7500\n",
      "Epoch [35/10], Step [0/8], Label Loss: 0.4282, Domain Loss: 0.5485, Gender Accuracy: 0.8438\n",
      "Epoch [36/10], Step [0/8], Label Loss: 0.2749, Domain Loss: 0.5257, Gender Accuracy: 0.8125\n",
      "Epoch [37/10], Step [0/8], Label Loss: 0.2016, Domain Loss: 0.5147, Gender Accuracy: 0.8125\n",
      "Epoch [38/10], Step [0/8], Label Loss: 0.3412, Domain Loss: 0.5832, Gender Accuracy: 0.6875\n",
      "Epoch [39/10], Step [0/8], Label Loss: 0.2298, Domain Loss: 0.5408, Gender Accuracy: 0.7500\n",
      "Epoch [40/10], Step [0/8], Label Loss: 0.3836, Domain Loss: 0.6126, Gender Accuracy: 0.7500\n",
      "Epoch [41/10], Step [0/8], Label Loss: 0.1632, Domain Loss: 0.6159, Gender Accuracy: 0.6875\n",
      "Epoch [42/10], Step [0/8], Label Loss: 0.1775, Domain Loss: 0.5442, Gender Accuracy: 0.7812\n",
      "Epoch [43/10], Step [0/8], Label Loss: 0.2810, Domain Loss: 0.5272, Gender Accuracy: 0.8438\n",
      "Epoch [44/10], Step [0/8], Label Loss: 0.2611, Domain Loss: 0.5212, Gender Accuracy: 0.8750\n",
      "Epoch [45/10], Step [0/8], Label Loss: 0.2896, Domain Loss: 0.5408, Gender Accuracy: 0.7812\n",
      "Epoch [46/10], Step [0/8], Label Loss: 0.0838, Domain Loss: 0.5457, Gender Accuracy: 0.8438\n",
      "Epoch [47/10], Step [0/8], Label Loss: 0.3218, Domain Loss: 0.5119, Gender Accuracy: 0.8750\n",
      "Epoch [48/10], Step [0/8], Label Loss: 0.2304, Domain Loss: 0.5630, Gender Accuracy: 0.7500\n",
      "Epoch [49/10], Step [0/8], Label Loss: 0.3676, Domain Loss: 0.4883, Gender Accuracy: 0.8438\n",
      "Epoch [50/10], Step [0/8], Label Loss: 0.3623, Domain Loss: 0.6003, Gender Accuracy: 0.6562\n",
      "Epoch [51/10], Step [0/8], Label Loss: 0.2620, Domain Loss: 0.5659, Gender Accuracy: 0.7188\n",
      "Epoch [52/10], Step [0/8], Label Loss: 0.2260, Domain Loss: 0.5187, Gender Accuracy: 0.8438\n",
      "Epoch [53/10], Step [0/8], Label Loss: 0.4197, Domain Loss: 0.5378, Gender Accuracy: 0.8125\n",
      "Epoch [54/10], Step [0/8], Label Loss: 0.3016, Domain Loss: 0.4953, Gender Accuracy: 0.8750\n",
      "Epoch [55/10], Step [0/8], Label Loss: 0.2690, Domain Loss: 0.5651, Gender Accuracy: 0.7812\n",
      "Epoch [56/10], Step [0/8], Label Loss: 0.3260, Domain Loss: 0.6386, Gender Accuracy: 0.6875\n",
      "Epoch [57/10], Step [0/8], Label Loss: 0.2515, Domain Loss: 0.5897, Gender Accuracy: 0.7188\n",
      "Epoch [58/10], Step [0/8], Label Loss: 0.1637, Domain Loss: 0.4886, Gender Accuracy: 0.8750\n",
      "Epoch [59/10], Step [0/8], Label Loss: 0.2395, Domain Loss: 0.5515, Gender Accuracy: 0.8125\n",
      "Epoch [60/10], Step [0/8], Label Loss: 0.4820, Domain Loss: 0.5032, Gender Accuracy: 0.8750\n",
      "Epoch [61/10], Step [0/8], Label Loss: 0.6960, Domain Loss: 0.5654, Gender Accuracy: 0.7188\n",
      "Epoch [62/10], Step [0/8], Label Loss: 0.1713, Domain Loss: 0.4198, Gender Accuracy: 0.9062\n",
      "Epoch [63/10], Step [0/8], Label Loss: 0.1530, Domain Loss: 0.4730, Gender Accuracy: 0.8438\n",
      "Epoch [64/10], Step [0/8], Label Loss: 0.2466, Domain Loss: 0.5317, Gender Accuracy: 0.7812\n",
      "Epoch [65/10], Step [0/8], Label Loss: 0.4843, Domain Loss: 0.5368, Gender Accuracy: 0.7500\n",
      "Epoch [66/10], Step [0/8], Label Loss: 0.1977, Domain Loss: 0.4852, Gender Accuracy: 0.8438\n",
      "Epoch [67/10], Step [0/8], Label Loss: 0.3166, Domain Loss: 0.5735, Gender Accuracy: 0.7500\n",
      "Epoch [68/10], Step [0/8], Label Loss: 0.2283, Domain Loss: 0.4367, Gender Accuracy: 0.9062\n",
      "Epoch [69/10], Step [0/8], Label Loss: 0.3046, Domain Loss: 0.5738, Gender Accuracy: 0.7500\n",
      "Epoch [70/10], Step [0/8], Label Loss: 0.4361, Domain Loss: 0.5382, Gender Accuracy: 0.7500\n",
      "Epoch [71/10], Step [0/8], Label Loss: 0.4235, Domain Loss: 0.5066, Gender Accuracy: 0.7812\n",
      "Epoch [72/10], Step [0/8], Label Loss: 0.3607, Domain Loss: 0.5424, Gender Accuracy: 0.7812\n",
      "Epoch [73/10], Step [0/8], Label Loss: 0.1267, Domain Loss: 0.4785, Gender Accuracy: 0.8438\n",
      "Epoch [74/10], Step [0/8], Label Loss: 0.1301, Domain Loss: 0.5273, Gender Accuracy: 0.7812\n"
     ]
    }
   ],
   "source": [
    "for epoch in range(75): \n",
    "    for i, (X_batch, y_label_batch, y_gender_batch) in enumerate(train_loader):\n",
    "        # Forward pass through the model\n",
    "        label_out, domain_out = model(X_batch, alpha=alpha)\n",
    "\n",
    "        # Calculate losses\n",
    "        label_loss = label_criterion(label_out.squeeze(), y_label_batch)\n",
    "        domain_loss = domain_criterion(domain_out, y_gender_batch)\n",
    "\n",
    "        # Total loss and backward pass\n",
    "        total_loss = label_loss + alpha * domain_loss \n",
    "        optimizer.zero_grad()\n",
    "        total_loss.backward()\n",
    "        optimizer.step()\n",
    "\n",
    "        # Track and print gender classification accuracy (post-debiasing)\n",
    "        _, predicted_gender = torch.max(domain_out, 1)\n",
    "        gender_accuracy = (predicted_gender == y_gender_batch).float().mean().item()\n",
    "\n",
    "        if i % 100 == 0:  # Printing every 100 steps (for debugging)\n",
    "            print(f\"Epoch [{epoch}/{10}], Step [{i}/{len(train_loader)}], \"\n",
    "                  f\"Label Loss: {label_loss.item():.4f}, Domain Loss: {domain_loss.item():.4f}, \"\n",
    "                  f\"Gender Accuracy: {gender_accuracy:.4f}\")"
   ]
  },
  {
   "cell_type": "code",
   "execution_count": 54,
   "metadata": {},
   "outputs": [
    {
     "name": "stdout",
     "output_type": "stream",
     "text": [
      "Gender Accuracy: 0.8333\n"
     ]
    }
   ],
   "source": [
    "# Monitor domain classifier accuracy (gender classification)\n",
    "gender_accuracy = (predicted_gender == y_gender_batch).float().mean().item()\n",
    "print(f\"Gender Accuracy: {gender_accuracy:.4f}\")"
   ]
  },
  {
   "cell_type": "code",
   "execution_count": null,
   "metadata": {},
   "outputs": [
    {
     "name": "stdout",
     "output_type": "stream",
     "text": [
      "\n",
      "Demographics (After Debiasing):\n",
      "0    123\n",
      "1    107\n",
      "Name: count, dtype: int64\n",
      "\n",
      "Model Performance After Debiasing:\n"
     ]
    }
   ],
   "source": [
    "# After Debiasing - Print model performance\n",
    "print(\"\\nDemographics (After Debiasing):\")\n",
    "print(pd.Series(y_gender_train.numpy()).value_counts())  # Gender distribution after debiasing\n",
    "print(\"\\nModel Performance After Debiasing:\")"
   ]
  },
  {
   "cell_type": "code",
   "execution_count": 56,
   "metadata": {},
   "outputs": [],
   "source": [
    "# Gender prediction accuracy (this should be low if debiasing is successful)\n",
    "predicted_gender_all = []\n",
    "y_gender_test_all = []"
   ]
  },
  {
   "cell_type": "code",
   "execution_count": null,
   "metadata": {},
   "outputs": [],
   "source": [
    "# Loop through the test dataset in batches to calculate the accuracy\n",
    "with torch.no_grad():\n",
    "    for X_batch, y_label_batch, y_gender_batch in test_loader:\n",
    "        _, domain_out = model(X_batch, alpha=alpha)\n",
    "        _, predicted_gender_batch = torch.max(domain_out, 1)\n",
    "        predicted_gender_all.append(predicted_gender_batch)\n",
    "        y_gender_test_all.append(y_gender_batch)"
   ]
  },
  {
   "cell_type": "code",
   "execution_count": 58,
   "metadata": {},
   "outputs": [
    {
     "name": "stdout",
     "output_type": "stream",
     "text": [
      "Gender Prediction Accuracy (after debiasing): 0.6379\n"
     ]
    }
   ],
   "source": [
    "# Convert lists to tensors\n",
    "predicted_gender_all = torch.cat(predicted_gender_all, dim=0)\n",
    "y_gender_test_all = torch.cat(y_gender_test_all, dim=0)\n",
    "\n",
    "# Compute the gender prediction accuracy\n",
    "gender_accuracy_after = (predicted_gender_all == y_gender_test_all).float().mean().item()\n",
    "print(f\"Gender Prediction Accuracy (after debiasing): {gender_accuracy_after:.4f}\")"
   ]
  },
  {
   "cell_type": "code",
   "execution_count": 59,
   "metadata": {},
   "outputs": [
    {
     "name": "stdout",
     "output_type": "stream",
     "text": [
      "Course Outcome Prediction Accuracy: 0.4655\n"
     ]
    }
   ],
   "source": [
    "# Course outcome prediction performance (main task)\n",
    "# model's predictions match the actual course outcomes for the test data\n",
    "with torch.no_grad():\n",
    "    label_out_all = []\n",
    "    for X_batch, y_label_batch, y_gender_batch in test_loader:\n",
    "        label_out, _ = model(X_batch, alpha=alpha)\n",
    "        label_out_all.append(label_out)\n",
    "\n",
    "# Concatenate all outputs and calculate accuracy for course outcome prediction\n",
    "label_out_all = torch.cat(label_out_all, dim=0)\n",
    "course_outcome_pred = label_out_all.squeeze()\n",
    "course_outcome_accuracy = (course_outcome_pred.round() == y_test).float().mean().item()\n",
    "print(f\"Course Outcome Prediction Accuracy: {course_outcome_accuracy:.4f}\")"
   ]
  },
  {
   "cell_type": "code",
   "execution_count": 60,
   "metadata": {},
   "outputs": [
    {
     "data": {
      "image/png": "[encoded data removed]",
      "text/plain": [
       "<Figure size 1000x600 with 1 Axes>"
      ]
     },
     "metadata": {},
     "output_type": "display_data"
    }
   ],
   "source": [
    "# Plot distributions of predictions for each gender to visualize demographic parity\n",
    "plt.figure(figsize=(10, 6))\n",
    "sns.histplot(predicted_gender_all[y_gender_test_all == 1], color='blue', label='Male Predictions', kde=True, stat=\"density\")\n",
    "sns.histplot(predicted_gender_all[y_gender_test_all == 0], color='pink', label='Female Predictions', kde=True, stat=\"density\")\n",
    "plt.title(\"Distribution of Predictions by Gender\")\n",
    "plt.xlabel(\"Predicted Course Outcome Level\")\n",
    "plt.ylabel(\"Density\")\n",
    "plt.legend()\n",
    "plt.show()"
   ]
  },
  {
   "cell_type": "code",
   "execution_count": null,
   "metadata": {},
   "outputs": [],
   "source": [
    "def demographic_parity(protected_attribute, predictions):\n",
    "    protected_attribute = protected_attribute.float()\n",
    "    predictions = predictions.float()\n",
    "    \n",
    "    # Assuming 1 as the positive prediction class\n",
    "    privileged_group = predictions[protected_attribute == 1]  # '1' represents females\n",
    "    unprivileged_group = predictions[protected_attribute == 0]  # '0' represents males\n",
    "   \n",
    "    privileged_rate = privileged_group.mean()\n",
    "    unprivileged_rate = unprivileged_group.mean()\n",
    "\n",
    "    return privileged_rate, unprivileged_rate\n"
   ]
  },
  {
   "cell_type": "code",
   "execution_count": 62,
   "metadata": {},
   "outputs": [
    {
     "name": "stdout",
     "output_type": "stream",
     "text": [
      "Demographic Parity (Before): 0.54 (male), 0.28 (female)\n",
      "Disparate Impact (Before): 1.91 (male to female ratio)\n"
     ]
    }
   ],
   "source": [
    "# Demographic Parity (Before and After)\n",
    "# Calculate and display demographic parity before training\n",
    "privileged_rate_before, unprivileged_rate_before = demographic_parity(y_gender_test_all, predicted_gender_all)\n",
    "print(f\"Demographic Parity (Before): {privileged_rate_before:.2f} (male), {unprivileged_rate_before:.2f} (female)\")\n",
    "\n",
    "# Disparate Impact (Before)\n",
    "disparate_impact_before = privileged_rate_before / unprivileged_rate_before\n",
    "print(f\"Disparate Impact (Before): {disparate_impact_before:.2f} (male to female ratio)\")\n"
   ]
  },
  {
   "cell_type": "code",
   "execution_count": 63,
   "metadata": {},
   "outputs": [
    {
     "name": "stdout",
     "output_type": "stream",
     "text": [
      "Demographic Parity (After): 0.54 (male), 0.28 (female)\n",
      "Disparate Impact (After): 1.91 (male to female ratio)\n"
     ]
    }
   ],
   "source": [
    "# After Training\n",
    "privileged_rate_after, unprivileged_rate_after = demographic_parity(y_gender_test_all, predicted_gender_all)\n",
    "print(f\"Demographic Parity (After): {privileged_rate_after:.2f} (male), {unprivileged_rate_after:.2f} (female)\")\n",
    "\n",
    "# Disparate Impact (After)\n",
    "disparate_impact_after = privileged_rate_after / unprivileged_rate_after\n",
    "print(f\"Disparate Impact (After): {disparate_impact_after:.2f} (male to female ratio)\")"
   ]
  }
 ],
 "metadata": {
  "kernelspec": {
   "display_name": "Python 3",
   "language": "python",
   "name": "python3"
  },
  "language_info": {
   "codemirror_mode": {
    "name": "ipython",
    "version": 3
   },
   "file_extension": ".py",
   "mimetype": "text/x-python",
   "name": "python",
   "nbconvert_exporter": "python",
   "pygments_lexer": "ipython3",
   "version": "3.12.2"
  }
 },
 "nbformat": 4,
 "nbformat_minor": 2
}
