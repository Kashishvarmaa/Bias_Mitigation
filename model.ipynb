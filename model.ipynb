{
 "cells": [
  {
   "cell_type": "markdown",
   "metadata": {},
   "source": [
    "### Import Necessary Libraries"
   ]
  },
  {
   "cell_type": "code",
   "execution_count": 71,
   "metadata": {},
   "outputs": [],
   "source": [
    "import pandas as pd\n",
    "import numpy as np\n",
    "import tensorflow as tf\n",
    "from sklearn.model_selection import train_test_split\n",
    "from sklearn.metrics import accuracy_score\n",
    "from aif360.datasets import BinaryLabelDataset\n",
    "from aif360.algorithms.preprocessing import Reweighing\n",
    "from aif360.algorithms.inprocessing import AdversarialDebiasing\n",
    "from aif360.algorithms.postprocessing import EqOddsPostprocessing\n",
    "from aif360.metrics import ClassificationMetric\n",
    "import matplotlib.pyplot as plt"
   ]
  },
  {
   "cell_type": "markdown",
   "metadata": {},
   "source": [
    "### Load the CSV File"
   ]
  },
  {
   "cell_type": "code",
   "execution_count": 72,
   "metadata": {},
   "outputs": [],
   "source": [
    "import pandas as pd\n",
    "\n",
    "# Load the dataset\n",
    "file_path = 'StudentFeedback_final.csv'\n",
    "df = pd.read_csv(file_path)"
   ]
  },
  {
   "cell_type": "code",
   "execution_count": 73,
   "metadata": {},
   "outputs": [
    {
     "data": {
      "text/html": [
       "<div>\n",
       "<style scoped>\n",
       "    .dataframe tbody tr th:only-of-type {\n",
       "        vertical-align: middle;\n",
       "    }\n",
       "\n",
       "    .dataframe tbody tr th {\n",
       "        vertical-align: top;\n",
       "    }\n",
       "\n",
       "    .dataframe thead th {\n",
       "        text-align: right;\n",
       "    }\n",
       "</style>\n",
       "<table border=\"1\" class=\"dataframe\">\n",
       "  <thead>\n",
       "    <tr style=\"text-align: right;\">\n",
       "      <th></th>\n",
       "      <th>Gender</th>\n",
       "      <th>Age</th>\n",
       "      <th>12th marks %</th>\n",
       "      <th>rural/ urban area</th>\n",
       "      <th>Why take this course?</th>\n",
       "      <th>Which teaching methods helped your learning?</th>\n",
       "      <th>Were you prepared to take this course based on prior coursework?</th>\n",
       "      <th>How much time did you spend weekly on this course outside of class for C01?</th>\n",
       "      <th>How much time did you spend weekly on this course outside of class for C02?</th>\n",
       "      <th>How much time did you spend weekly on this course outside of class for C03?</th>\n",
       "      <th>...</th>\n",
       "      <th>Explain briefly your rationale for you choice to the previous question</th>\n",
       "      <th>Would more faculty concern improve your learning in C01?</th>\n",
       "      <th>Would more faculty concern improve your learning in C02?</th>\n",
       "      <th>Would more faculty concern improve your learning in C03?</th>\n",
       "      <th>Would more faculty concern improve your learning in C04?</th>\n",
       "      <th>Would more outside help improve your learning in C01?</th>\n",
       "      <th>Would more outside help improve your learning in C02?</th>\n",
       "      <th>Would more outside help improve your learning in C03?</th>\n",
       "      <th>Would more outside help improve your learning in C04?</th>\n",
       "      <th>Your overall feedback</th>\n",
       "    </tr>\n",
       "  </thead>\n",
       "  <tbody>\n",
       "    <tr>\n",
       "      <th>0</th>\n",
       "      <td>1.0</td>\n",
       "      <td>0.333333</td>\n",
       "      <td>0.350515</td>\n",
       "      <td>1.0</td>\n",
       "      <td>0.388889</td>\n",
       "      <td>0.608333</td>\n",
       "      <td>1.0</td>\n",
       "      <td>0.250</td>\n",
       "      <td>0.250</td>\n",
       "      <td>0.222222</td>\n",
       "      <td>...</td>\n",
       "      <td>0.059908</td>\n",
       "      <td>0.0</td>\n",
       "      <td>0.0</td>\n",
       "      <td>0.0</td>\n",
       "      <td>0.0</td>\n",
       "      <td>0.0</td>\n",
       "      <td>0.0</td>\n",
       "      <td>0.0</td>\n",
       "      <td>0.0</td>\n",
       "      <td>0.000000</td>\n",
       "    </tr>\n",
       "    <tr>\n",
       "      <th>1</th>\n",
       "      <td>0.0</td>\n",
       "      <td>1.000000</td>\n",
       "      <td>0.340206</td>\n",
       "      <td>1.0</td>\n",
       "      <td>0.305556</td>\n",
       "      <td>0.516667</td>\n",
       "      <td>0.0</td>\n",
       "      <td>0.375</td>\n",
       "      <td>0.500</td>\n",
       "      <td>0.666667</td>\n",
       "      <td>...</td>\n",
       "      <td>0.147465</td>\n",
       "      <td>0.0</td>\n",
       "      <td>0.0</td>\n",
       "      <td>1.0</td>\n",
       "      <td>1.0</td>\n",
       "      <td>0.0</td>\n",
       "      <td>0.0</td>\n",
       "      <td>1.0</td>\n",
       "      <td>1.0</td>\n",
       "      <td>0.333333</td>\n",
       "    </tr>\n",
       "    <tr>\n",
       "      <th>2</th>\n",
       "      <td>1.0</td>\n",
       "      <td>0.666667</td>\n",
       "      <td>0.123711</td>\n",
       "      <td>0.0</td>\n",
       "      <td>0.527778</td>\n",
       "      <td>0.383333</td>\n",
       "      <td>1.0</td>\n",
       "      <td>0.500</td>\n",
       "      <td>0.500</td>\n",
       "      <td>0.555556</td>\n",
       "      <td>...</td>\n",
       "      <td>0.525346</td>\n",
       "      <td>1.0</td>\n",
       "      <td>1.0</td>\n",
       "      <td>1.0</td>\n",
       "      <td>1.0</td>\n",
       "      <td>1.0</td>\n",
       "      <td>1.0</td>\n",
       "      <td>1.0</td>\n",
       "      <td>1.0</td>\n",
       "      <td>0.000000</td>\n",
       "    </tr>\n",
       "    <tr>\n",
       "      <th>3</th>\n",
       "      <td>0.0</td>\n",
       "      <td>0.666667</td>\n",
       "      <td>0.268041</td>\n",
       "      <td>1.0</td>\n",
       "      <td>0.083333</td>\n",
       "      <td>0.316667</td>\n",
       "      <td>1.0</td>\n",
       "      <td>0.125</td>\n",
       "      <td>0.125</td>\n",
       "      <td>0.222222</td>\n",
       "      <td>...</td>\n",
       "      <td>0.695853</td>\n",
       "      <td>0.0</td>\n",
       "      <td>0.0</td>\n",
       "      <td>0.0</td>\n",
       "      <td>0.0</td>\n",
       "      <td>0.0</td>\n",
       "      <td>0.0</td>\n",
       "      <td>0.0</td>\n",
       "      <td>0.0</td>\n",
       "      <td>0.000000</td>\n",
       "    </tr>\n",
       "    <tr>\n",
       "      <th>4</th>\n",
       "      <td>1.0</td>\n",
       "      <td>0.333333</td>\n",
       "      <td>0.216495</td>\n",
       "      <td>1.0</td>\n",
       "      <td>0.722222</td>\n",
       "      <td>0.600000</td>\n",
       "      <td>0.0</td>\n",
       "      <td>0.125</td>\n",
       "      <td>0.125</td>\n",
       "      <td>0.111111</td>\n",
       "      <td>...</td>\n",
       "      <td>0.847926</td>\n",
       "      <td>0.0</td>\n",
       "      <td>0.0</td>\n",
       "      <td>0.0</td>\n",
       "      <td>0.0</td>\n",
       "      <td>0.0</td>\n",
       "      <td>0.0</td>\n",
       "      <td>0.0</td>\n",
       "      <td>0.0</td>\n",
       "      <td>0.000000</td>\n",
       "    </tr>\n",
       "  </tbody>\n",
       "</table>\n",
       "<p>5 rows × 45 columns</p>\n",
       "</div>"
      ],
      "text/plain": [
       "   Gender       Age  12th marks %  rural/ urban area  Why take this course?  \\\n",
       "0     1.0  0.333333      0.350515                1.0               0.388889   \n",
       "1     0.0  1.000000      0.340206                1.0               0.305556   \n",
       "2     1.0  0.666667      0.123711                0.0               0.527778   \n",
       "3     0.0  0.666667      0.268041                1.0               0.083333   \n",
       "4     1.0  0.333333      0.216495                1.0               0.722222   \n",
       "\n",
       "   Which teaching methods helped your learning?  \\\n",
       "0                                      0.608333   \n",
       "1                                      0.516667   \n",
       "2                                      0.383333   \n",
       "3                                      0.316667   \n",
       "4                                      0.600000   \n",
       "\n",
       "   Were you prepared to take this course based on prior coursework?  \\\n",
       "0                                                1.0                  \n",
       "1                                                0.0                  \n",
       "2                                                1.0                  \n",
       "3                                                1.0                  \n",
       "4                                                0.0                  \n",
       "\n",
       "   How much time did you spend weekly on this course outside of class for C01?  \\\n",
       "0                                              0.250                             \n",
       "1                                              0.375                             \n",
       "2                                              0.500                             \n",
       "3                                              0.125                             \n",
       "4                                              0.125                             \n",
       "\n",
       "   How much time did you spend weekly on this course outside of class for C02?  \\\n",
       "0                                              0.250                             \n",
       "1                                              0.500                             \n",
       "2                                              0.500                             \n",
       "3                                              0.125                             \n",
       "4                                              0.125                             \n",
       "\n",
       "   How much time did you spend weekly on this course outside of class for C03?  \\\n",
       "0                                           0.222222                             \n",
       "1                                           0.666667                             \n",
       "2                                           0.555556                             \n",
       "3                                           0.222222                             \n",
       "4                                           0.111111                             \n",
       "\n",
       "   ...  \\\n",
       "0  ...   \n",
       "1  ...   \n",
       "2  ...   \n",
       "3  ...   \n",
       "4  ...   \n",
       "\n",
       "   Explain briefly your rationale for you choice to the previous question  \\\n",
       "0                                           0.059908                        \n",
       "1                                           0.147465                        \n",
       "2                                           0.525346                        \n",
       "3                                           0.695853                        \n",
       "4                                           0.847926                        \n",
       "\n",
       "   Would more faculty concern improve your learning in C01?  \\\n",
       "0                                                0.0          \n",
       "1                                                0.0          \n",
       "2                                                1.0          \n",
       "3                                                0.0          \n",
       "4                                                0.0          \n",
       "\n",
       "   Would more faculty concern improve your learning in C02?  \\\n",
       "0                                                0.0          \n",
       "1                                                0.0          \n",
       "2                                                1.0          \n",
       "3                                                0.0          \n",
       "4                                                0.0          \n",
       "\n",
       "   Would more faculty concern improve your learning in C03?  \\\n",
       "0                                                0.0          \n",
       "1                                                1.0          \n",
       "2                                                1.0          \n",
       "3                                                0.0          \n",
       "4                                                0.0          \n",
       "\n",
       "   Would more faculty concern improve your learning in C04?  \\\n",
       "0                                                0.0          \n",
       "1                                                1.0          \n",
       "2                                                1.0          \n",
       "3                                                0.0          \n",
       "4                                                0.0          \n",
       "\n",
       "   Would more outside help improve your learning in C01?  \\\n",
       "0                                                0.0       \n",
       "1                                                0.0       \n",
       "2                                                1.0       \n",
       "3                                                0.0       \n",
       "4                                                0.0       \n",
       "\n",
       "   Would more outside help improve your learning in C02?  \\\n",
       "0                                                0.0       \n",
       "1                                                0.0       \n",
       "2                                                1.0       \n",
       "3                                                0.0       \n",
       "4                                                0.0       \n",
       "\n",
       "   Would more outside help improve your learning in C03?  \\\n",
       "0                                                0.0       \n",
       "1                                                1.0       \n",
       "2                                                1.0       \n",
       "3                                                0.0       \n",
       "4                                                0.0       \n",
       "\n",
       "   Would more outside help improve your learning in C04?  \\\n",
       "0                                                0.0       \n",
       "1                                                1.0       \n",
       "2                                                1.0       \n",
       "3                                                0.0       \n",
       "4                                                0.0       \n",
       "\n",
       "   Your overall feedback  \n",
       "0               0.000000  \n",
       "1               0.333333  \n",
       "2               0.000000  \n",
       "3               0.000000  \n",
       "4               0.000000  \n",
       "\n",
       "[5 rows x 45 columns]"
      ]
     },
     "execution_count": 73,
     "metadata": {},
     "output_type": "execute_result"
    }
   ],
   "source": [
    "# Display the first few rows of the dataset\n",
    "df.head()"
   ]
  },
  {
   "cell_type": "markdown",
   "metadata": {},
   "source": [
    "### Pre-process the Data"
   ]
  },
  {
   "cell_type": "markdown",
   "metadata": {},
   "source": [
    "#### Define the Target and Feature"
   ]
  },
  {
   "cell_type": "code",
   "execution_count": 74,
   "metadata": {},
   "outputs": [],
   "source": [
    "# Define the target variable (Gender) for gender bias mitigation\n",
    "y = df['Gender']\n",
    "\n",
    "# Define the features by dropping the target column (Gender)\n",
    "X = df.drop(columns=['Gender'])\n",
    "\n",
    "# Specify the sensitive feature for adversarial de-biasing\n",
    "sensitive_feature = 'Gender'\n"
   ]
  },
  {
   "cell_type": "markdown",
   "metadata": {},
   "source": [
    "### Convert the Dataset into AIF360 Format"
   ]
  },
  {
   "cell_type": "code",
   "execution_count": 75,
   "metadata": {},
   "outputs": [],
   "source": [
    "from aif360.datasets import BinaryLabelDataset\n",
    "\n",
    "# Convert the dataset into AIF360 BinaryLabelDataset format\n",
    "data = BinaryLabelDataset(df=pd.concat([X, y], axis=1),\n",
    "                          label_names=['Gender'],  # Set Gender as the label (target) for bias mitigation\n",
    "                          protected_attribute_names=['Gender'])  # Specify Gender as the sensitive attribute"
   ]
  },
  {
   "cell_type": "markdown",
   "metadata": {},
   "source": [
    "### Split the Data into Train and Test Sets"
   ]
  },
  {
   "cell_type": "code",
   "execution_count": 76,
   "metadata": {},
   "outputs": [],
   "source": [
    "from sklearn.model_selection import train_test_split\n",
    "\n",
    "# Split the data into training and testing sets\n",
    "train, test = data.split([0.8], shuffle=True)\n"
   ]
  },
  {
   "cell_type": "markdown",
   "metadata": {},
   "source": [
    "### Pre Processing: Reweighing the Dataset to Mitigate Bias"
   ]
  },
  {
   "cell_type": "code",
   "execution_count": 77,
   "metadata": {},
   "outputs": [
    {
     "name": "stderr",
     "output_type": "stream",
     "text": [
      "c:\\Users\\ssrut\\AppData\\Local\\Programs\\Python\\Python312\\Lib\\site-packages\\aif360\\algorithms\\preprocessing\\reweighing.py:67: RuntimeWarning: divide by zero encountered in scalar divide\n",
      "  self.w_p_unfav = n_unfav*n_p / (n*n_p_unfav)\n",
      "c:\\Users\\ssrut\\AppData\\Local\\Programs\\Python\\Python312\\Lib\\site-packages\\aif360\\algorithms\\preprocessing\\reweighing.py:68: RuntimeWarning: divide by zero encountered in scalar divide\n",
      "  self.w_up_fav = n_fav*n_up / (n*n_up_fav)\n"
     ]
    }
   ],
   "source": [
    "reweigher = Reweighing(unprivileged_groups=[{'Gender': 0}], privileged_groups=[{'Gender': 1}])\n",
    "train_reweighed = reweigher.fit_transform(train)"
   ]
  },
  {
   "cell_type": "code",
   "execution_count": 78,
   "metadata": {},
   "outputs": [
    {
     "name": "stdout",
     "output_type": "stream",
     "text": [
      "Privileged group (female) count: 33\n",
      "Unprivileged group (male) count: 25\n"
     ]
    }
   ],
   "source": [
    "# Counts for privileged and unprivileged groups\n",
    "print(\"Privileged group (female) count:\", sum(test.protected_attributes[:, 0] == 1))\n",
    "print(\"Unprivileged group (male) count:\", sum(test.protected_attributes[:, 0] == 0))"
   ]
  },
  {
   "cell_type": "markdown",
   "metadata": {},
   "source": [
    "### In Processing: Adversarial Debiasing Model"
   ]
  },
  {
   "cell_type": "code",
   "execution_count": 79,
   "metadata": {},
   "outputs": [],
   "source": [
    "import tensorflow as tf\n",
    "from aif360.algorithms.inprocessing import AdversarialDebiasing\n"
   ]
  },
  {
   "cell_type": "code",
   "execution_count": 80,
   "metadata": {},
   "outputs": [],
   "source": [
    "# Disable eager execution (for TensorFlow 2.x users)\n",
    "tf.compat.v1.disable_eager_execution()\n",
    "\n",
    "# Set up the session\n",
    "sess = tf.compat.v1.Session()\n"
   ]
  },
  {
   "cell_type": "markdown",
   "metadata": {},
   "source": [
    "#### Set Up and Train the Adversarial Debiasing Model:"
   ]
  },
  {
   "cell_type": "code",
   "execution_count": 81,
   "metadata": {},
   "outputs": [],
   "source": [
    "import tensorflow as tf\n",
    "from aif360.algorithms.inprocessing import AdversarialDebiasing\n",
    "\n",
    "# Ensure compatibility with TensorFlow 1.x by using tf.compat.v1\n",
    "tf.compat.v1.disable_eager_execution()\n",
    "tf.compat.v1.reset_default_graph()  # Clear any existing graph\n",
    "\n",
    "# Start a new session\n",
    "sess = tf.compat.v1.Session()"
   ]
  },
  {
   "cell_type": "code",
   "execution_count": 82,
   "metadata": {},
   "outputs": [],
   "source": [
    "# Create the AdversarialDebiasing model\n",
    "adv_debiasing = AdversarialDebiasing(privileged_groups=[{'Gender': 1}],   # Privileged group: Female\n",
    "                                     unprivileged_groups=[{'Gender': 0}],  # Unprivileged group: Male\n",
    "                                     scope_name='debiasing_classifier',\n",
    "                                     debias=True,                         # Enable debiasing\n",
    "                                     sess=sess)"
   ]
  },
  {
   "cell_type": "markdown",
   "metadata": {},
   "source": [
    "#### Train the model"
   ]
  },
  {
   "cell_type": "code",
   "execution_count": 83,
   "metadata": {},
   "outputs": [
    {
     "name": "stdout",
     "output_type": "stream",
     "text": [
      "epoch 0; iter: 0; batch classifier loss: 0.692451; batch adversarial loss: 0.661673\n",
      "epoch 1; iter: 0; batch classifier loss: 0.677980; batch adversarial loss: 0.658386\n",
      "epoch 2; iter: 0; batch classifier loss: 0.692987; batch adversarial loss: 0.659899\n",
      "epoch 3; iter: 0; batch classifier loss: 0.664513; batch adversarial loss: 0.660688\n",
      "epoch 4; iter: 0; batch classifier loss: 0.676909; batch adversarial loss: 0.659652\n",
      "epoch 5; iter: 0; batch classifier loss: 0.700212; batch adversarial loss: 0.658515\n",
      "epoch 6; iter: 0; batch classifier loss: 0.690675; batch adversarial loss: 0.657424\n",
      "epoch 7; iter: 0; batch classifier loss: 0.681590; batch adversarial loss: 0.659232\n",
      "epoch 8; iter: 0; batch classifier loss: 0.684126; batch adversarial loss: 0.658813\n",
      "epoch 9; iter: 0; batch classifier loss: 0.685129; batch adversarial loss: 0.658932\n",
      "epoch 10; iter: 0; batch classifier loss: 0.677112; batch adversarial loss: 0.658635\n",
      "epoch 11; iter: 0; batch classifier loss: 0.672490; batch adversarial loss: 0.657628\n",
      "epoch 12; iter: 0; batch classifier loss: 0.654360; batch adversarial loss: 0.658320\n",
      "epoch 13; iter: 0; batch classifier loss: 0.675472; batch adversarial loss: 0.661745\n",
      "epoch 14; iter: 0; batch classifier loss: 0.656097; batch adversarial loss: 0.657605\n",
      "epoch 15; iter: 0; batch classifier loss: 0.677897; batch adversarial loss: 0.660512\n",
      "epoch 16; iter: 0; batch classifier loss: 0.655776; batch adversarial loss: 0.657907\n",
      "epoch 17; iter: 0; batch classifier loss: 0.665515; batch adversarial loss: 0.659922\n",
      "epoch 18; iter: 0; batch classifier loss: 0.641665; batch adversarial loss: 0.658420\n",
      "epoch 19; iter: 0; batch classifier loss: 0.648506; batch adversarial loss: 0.655208\n",
      "epoch 20; iter: 0; batch classifier loss: 0.644460; batch adversarial loss: 0.658538\n",
      "epoch 21; iter: 0; batch classifier loss: 0.671726; batch adversarial loss: 0.658991\n",
      "epoch 22; iter: 0; batch classifier loss: 0.667743; batch adversarial loss: 0.660449\n",
      "epoch 23; iter: 0; batch classifier loss: 0.660834; batch adversarial loss: 0.657238\n",
      "epoch 24; iter: 0; batch classifier loss: 0.639188; batch adversarial loss: 0.658970\n",
      "epoch 25; iter: 0; batch classifier loss: 0.656215; batch adversarial loss: 0.658635\n",
      "epoch 26; iter: 0; batch classifier loss: 0.649365; batch adversarial loss: 0.664662\n",
      "epoch 27; iter: 0; batch classifier loss: 0.648950; batch adversarial loss: 0.661176\n",
      "epoch 28; iter: 0; batch classifier loss: 0.636139; batch adversarial loss: 0.660769\n",
      "epoch 29; iter: 0; batch classifier loss: 0.645784; batch adversarial loss: 0.657383\n",
      "epoch 30; iter: 0; batch classifier loss: 0.614928; batch adversarial loss: 0.660313\n",
      "epoch 31; iter: 0; batch classifier loss: 0.656576; batch adversarial loss: 0.659150\n",
      "epoch 32; iter: 0; batch classifier loss: 0.634465; batch adversarial loss: 0.658330\n",
      "epoch 33; iter: 0; batch classifier loss: 0.637817; batch adversarial loss: 0.659632\n",
      "epoch 34; iter: 0; batch classifier loss: 0.622131; batch adversarial loss: 0.662848\n",
      "epoch 35; iter: 0; batch classifier loss: 0.627381; batch adversarial loss: 0.660820\n",
      "epoch 36; iter: 0; batch classifier loss: 0.620828; batch adversarial loss: 0.662842\n",
      "epoch 37; iter: 0; batch classifier loss: 0.649266; batch adversarial loss: 0.661801\n",
      "epoch 38; iter: 0; batch classifier loss: 0.646364; batch adversarial loss: 0.661378\n",
      "epoch 39; iter: 0; batch classifier loss: 0.634677; batch adversarial loss: 0.663683\n",
      "epoch 40; iter: 0; batch classifier loss: 0.652078; batch adversarial loss: 0.662220\n",
      "epoch 41; iter: 0; batch classifier loss: 0.646068; batch adversarial loss: 0.661201\n",
      "epoch 42; iter: 0; batch classifier loss: 0.608173; batch adversarial loss: 0.660542\n",
      "epoch 43; iter: 0; batch classifier loss: 0.611178; batch adversarial loss: 0.660107\n",
      "epoch 44; iter: 0; batch classifier loss: 0.624253; batch adversarial loss: 0.666109\n",
      "epoch 45; iter: 0; batch classifier loss: 0.633755; batch adversarial loss: 0.664080\n",
      "epoch 46; iter: 0; batch classifier loss: 0.616684; batch adversarial loss: 0.664051\n",
      "epoch 47; iter: 0; batch classifier loss: 0.632972; batch adversarial loss: 0.665083\n",
      "epoch 48; iter: 0; batch classifier loss: 0.604941; batch adversarial loss: 0.661925\n",
      "epoch 49; iter: 0; batch classifier loss: 0.597349; batch adversarial loss: 0.665354\n"
     ]
    },
    {
     "data": {
      "text/plain": [
       "<aif360.algorithms.inprocessing.adversarial_debiasing.AdversarialDebiasing at 0x1c39081b920>"
      ]
     },
     "execution_count": 83,
     "metadata": {},
     "output_type": "execute_result"
    }
   ],
   "source": [
    "# Train the model\n",
    "adv_debiasing.fit(train_reweighed)"
   ]
  },
  {
   "cell_type": "markdown",
   "metadata": {},
   "source": [
    "### Make Predictions with the Test Model"
   ]
  },
  {
   "cell_type": "code",
   "execution_count": 84,
   "metadata": {},
   "outputs": [],
   "source": [
    "# Predict on test data\n",
    "predictions = adv_debiasing.predict(test)\n"
   ]
  },
  {
   "cell_type": "code",
   "execution_count": 85,
   "metadata": {},
   "outputs": [
    {
     "name": "stdout",
     "output_type": "stream",
     "text": [
      "[[1.]\n",
      " [0.]\n",
      " [1.]\n",
      " [1.]\n",
      " [0.]\n",
      " [0.]\n",
      " [0.]\n",
      " [0.]\n",
      " [0.]\n",
      " [0.]\n",
      " [0.]\n",
      " [0.]\n",
      " [0.]\n",
      " [0.]\n",
      " [0.]\n",
      " [0.]\n",
      " [0.]\n",
      " [0.]\n",
      " [1.]\n",
      " [0.]\n",
      " [0.]\n",
      " [0.]\n",
      " [0.]\n",
      " [0.]\n",
      " [0.]\n",
      " [0.]\n",
      " [1.]\n",
      " [0.]\n",
      " [0.]\n",
      " [0.]\n",
      " [0.]\n",
      " [1.]\n",
      " [0.]\n",
      " [0.]\n",
      " [0.]\n",
      " [0.]\n",
      " [0.]\n",
      " [0.]\n",
      " [0.]\n",
      " [0.]\n",
      " [1.]\n",
      " [1.]\n",
      " [0.]\n",
      " [0.]\n",
      " [0.]\n",
      " [0.]\n",
      " [0.]\n",
      " [0.]\n",
      " [0.]\n",
      " [0.]\n",
      " [0.]\n",
      " [0.]\n",
      " [0.]\n",
      " [0.]\n",
      " [0.]\n",
      " [0.]\n",
      " [0.]\n",
      " [0.]]\n"
     ]
    }
   ],
   "source": [
    "print(predictions.labels)  # This should show the predicted labels"
   ]
  },
  {
   "cell_type": "code",
   "execution_count": 86,
   "metadata": {},
   "outputs": [],
   "source": [
    "predicted_data = test.copy()\n",
    "predicted_data.labels = predictions.labels  # Assign the predicted labels\n"
   ]
  },
  {
   "cell_type": "code",
   "execution_count": 89,
   "metadata": {},
   "outputs": [
    {
     "name": "stdout",
     "output_type": "stream",
     "text": [
      "Model Accuracy: 0.5\n",
      "Statistical Parity Difference: -0.10181818181818182\n",
      "Disparate Impact: 0.44\n"
     ]
    }
   ],
   "source": [
    "from sklearn.metrics import accuracy_score\n",
    "from aif360.metrics import ClassificationMetric\n",
    "\n",
    "# Step 1: Ensure 'predicted_data' has updated labels\n",
    "predicted_data = test.copy(deepcopy=True)\n",
    "predicted_data.labels = predictions.labels  # Assuming 'predictions' is the output from adversarial_debiasing.predict(test_data)\n",
    "\n",
    "# Step 2: Calculate accuracy\n",
    "accuracy = accuracy_score(test.labels, predicted_data.labels)\n",
    "print(\"Model Accuracy:\", accuracy)\n",
    "\n",
    "# Step 3: Set up fairness evaluation\n",
    "metric = ClassificationMetric(\n",
    "    test,\n",
    "    predicted_data,\n",
    "    privileged_groups=[{'Gender': 1}],  \n",
    "    unprivileged_groups=[{'Gender': 0}], \n",
    ")\n",
    "\n",
    "# Step 4: Calculate fairness metrics\n",
    "stat_parity_diff = metric.statistical_parity_difference()\n",
    "disparate_impact = metric.disparate_impact()\n",
    "\n",
    "# Display results\n",
    "print(\"Statistical Parity Difference:\", stat_parity_diff)\n",
    "print(\"Disparate Impact:\", disparate_impact)\n"
   ]
  },
  {
   "cell_type": "code",
   "execution_count": 90,
   "metadata": {},
   "outputs": [
    {
     "name": "stdout",
     "output_type": "stream",
     "text": [
      "Privileged group (female) count: 33\n",
      "Unprivileged group (male) count: 25\n"
     ]
    }
   ],
   "source": [
    "# Counts for privileged and unprivileged groups\n",
    "print(\"Privileged group (female) count:\", sum(test.protected_attributes[:, 0] == 1))\n",
    "print(\"Unprivileged group (male) count:\", sum(test.protected_attributes[:, 0] == 0))\n"
   ]
  },
  {
   "cell_type": "markdown",
   "metadata": {},
   "source": [
    "### Evaluate the Model's Fairness and Performance after In Processing"
   ]
  },
  {
   "cell_type": "markdown",
   "metadata": {},
   "source": [
    "#### Performance Evaluation - Accuracy"
   ]
  },
  {
   "cell_type": "code",
   "execution_count": 91,
   "metadata": {},
   "outputs": [
    {
     "name": "stdout",
     "output_type": "stream",
     "text": [
      "Test Accuracy: 0.5000\n"
     ]
    }
   ],
   "source": [
    "from sklearn.metrics import accuracy_score\n",
    "\n",
    "# Calculate accuracy\n",
    "test_labels = test.labels\n",
    "pred_labels = predictions.labels\n",
    "\n",
    "accuracy = accuracy_score(test_labels, pred_labels)\n",
    "print(f\"Test Accuracy: {accuracy:.4f}\")\n"
   ]
  },
  {
   "cell_type": "code",
   "execution_count": 92,
   "metadata": {},
   "outputs": [
    {
     "name": "stdout",
     "output_type": "stream",
     "text": [
      "Test Accuracy (Pre Post-processing): 0.5000\n"
     ]
    }
   ],
   "source": [
    "# Accuracy\n",
    "accuracy_pre = accuracy_score(test.labels, predictions.labels)\n",
    "print(f\"Test Accuracy (Pre Post-processing): {accuracy_pre:.4f}\")"
   ]
  },
  {
   "cell_type": "markdown",
   "metadata": {},
   "source": [
    "#### Fairness Evaluation"
   ]
  },
  {
   "cell_type": "code",
   "execution_count": 93,
   "metadata": {},
   "outputs": [],
   "source": [
    "from aif360.metrics import ClassificationMetric\n",
    "\n",
    "# Compute fairness metrics\n",
    "metric = ClassificationMetric(test, predictions,\n",
    "                              unprivileged_groups=[{'Gender': 0}],\n",
    "                              privileged_groups=[{'Gender': 1}])"
   ]
  },
  {
   "cell_type": "markdown",
   "metadata": {},
   "source": [
    "#### Fairness: Disparate Impact and Equal Opportunity Difference"
   ]
  },
  {
   "cell_type": "code",
   "execution_count": 99,
   "metadata": {},
   "outputs": [
    {
     "name": "stdout",
     "output_type": "stream",
     "text": [
      "Original data shape: (288, 44)\n",
      "Predicted data shape: (58, 44)\n"
     ]
    }
   ],
   "source": [
    "print(\"Original data shape:\", data.features.shape)\n",
    "print(\"Predicted data shape:\", predicted_data.features.shape)"
   ]
  },
  {
   "cell_type": "code",
   "execution_count": 106,
   "metadata": {},
   "outputs": [
    {
     "name": "stdout",
     "output_type": "stream",
     "text": [
      "data features shape: (58, 44)\n",
      "predicted_data features shape: (58, 44)\n",
      "Feature match: False\n"
     ]
    }
   ],
   "source": [
    "# Check shapes\n",
    "print(\"data features shape:\", data.features.shape)\n",
    "print(\"predicted_data features shape:\", predicted_data.features.shape)\n",
    "\n",
    "# Check for any feature discrepancies\n",
    "print(\"Feature match:\", np.array_equal(data.features, predicted_data.features))"
   ]
  },
  {
   "cell_type": "code",
   "execution_count": 121,
   "metadata": {},
   "outputs": [
    {
     "name": "stdout",
     "output_type": "stream",
     "text": [
      "Disparate Impact: 0.0\n"
     ]
    },
    {
     "ename": "ValueError",
     "evalue": "The two datasets are expected to differ only in 'labels' or 'scores'.",
     "output_type": "error",
     "traceback": [
      "\u001b[1;31m---------------------------------------------------------------------------\u001b[0m",
      "\u001b[1;31mValueError\u001b[0m                                Traceback (most recent call last)",
      "Cell \u001b[1;32mIn[121], line 13\u001b[0m\n\u001b[0;32m     10\u001b[0m \u001b[38;5;28mprint\u001b[39m(\u001b[38;5;124mf\u001b[39m\u001b[38;5;124m\"\u001b[39m\u001b[38;5;124mDisparate Impact: \u001b[39m\u001b[38;5;132;01m{\u001b[39;00mdisparate_impact_pre\u001b[38;5;132;01m}\u001b[39;00m\u001b[38;5;124m\"\u001b[39m)\n\u001b[0;32m     12\u001b[0m \u001b[38;5;66;03m# Step 2: Equal Opportunity Difference with ClassificationMetric (requires both original and predicted datasets)\u001b[39;00m\n\u001b[1;32m---> 13\u001b[0m classification_metric \u001b[38;5;241m=\u001b[39m \u001b[43mClassificationMetric\u001b[49m\u001b[43m(\u001b[49m\n\u001b[0;32m     14\u001b[0m \u001b[43m    \u001b[49m\u001b[43mdata\u001b[49m\u001b[43m,\u001b[49m\u001b[43m                   \u001b[49m\u001b[38;5;66;43;03m# Original dataset\u001b[39;49;00m\n\u001b[0;32m     15\u001b[0m \u001b[43m    \u001b[49m\u001b[43mpredicted_data\u001b[49m\u001b[43m,\u001b[49m\u001b[43m         \u001b[49m\u001b[38;5;66;43;03m# Dataset with predictions\u001b[39;49;00m\n\u001b[0;32m     16\u001b[0m \u001b[43m    \u001b[49m\u001b[43munprivileged_groups\u001b[49m\u001b[38;5;241;43m=\u001b[39;49m\u001b[43m[\u001b[49m\u001b[43m{\u001b[49m\u001b[38;5;124;43m'\u001b[39;49m\u001b[38;5;124;43mGender\u001b[39;49m\u001b[38;5;124;43m'\u001b[39;49m\u001b[43m:\u001b[49m\u001b[43m \u001b[49m\u001b[38;5;241;43m0\u001b[39;49m\u001b[43m}\u001b[49m\u001b[43m]\u001b[49m\u001b[43m,\u001b[49m\n\u001b[0;32m     17\u001b[0m \u001b[43m    \u001b[49m\u001b[43mprivileged_groups\u001b[49m\u001b[38;5;241;43m=\u001b[39;49m\u001b[43m[\u001b[49m\u001b[43m{\u001b[49m\u001b[38;5;124;43m'\u001b[39;49m\u001b[38;5;124;43mGender\u001b[39;49m\u001b[38;5;124;43m'\u001b[39;49m\u001b[43m:\u001b[49m\u001b[43m \u001b[49m\u001b[38;5;241;43m1\u001b[39;49m\u001b[43m}\u001b[49m\u001b[43m]\u001b[49m\n\u001b[0;32m     18\u001b[0m \u001b[43m)\u001b[49m\n\u001b[0;32m     19\u001b[0m equal_opportunity_pre \u001b[38;5;241m=\u001b[39m classification_metric\u001b[38;5;241m.\u001b[39mequal_opportunity_difference()\n\u001b[0;32m     20\u001b[0m \u001b[38;5;28mprint\u001b[39m(\u001b[38;5;124mf\u001b[39m\u001b[38;5;124m\"\u001b[39m\u001b[38;5;124mEqual Opportunity Difference: \u001b[39m\u001b[38;5;132;01m{\u001b[39;00mequal_opportunity_pre\u001b[38;5;132;01m}\u001b[39;00m\u001b[38;5;124m\"\u001b[39m)\n",
      "File \u001b[1;32mc:\\Users\\ssrut\\AppData\\Local\\Programs\\Python\\Python312\\Lib\\site-packages\\aif360\\metrics\\classification_metric.py:67\u001b[0m, in \u001b[0;36mClassificationMetric.__init__\u001b[1;34m(self, dataset, classified_dataset, unprivileged_groups, privileged_groups)\u001b[0m\n\u001b[0;32m     65\u001b[0m \u001b[38;5;28;01mwith\u001b[39;00m \u001b[38;5;28mself\u001b[39m\u001b[38;5;241m.\u001b[39mdataset\u001b[38;5;241m.\u001b[39mtemporarily_ignore(\u001b[38;5;124m'\u001b[39m\u001b[38;5;124mlabels\u001b[39m\u001b[38;5;124m'\u001b[39m, \u001b[38;5;124m'\u001b[39m\u001b[38;5;124mscores\u001b[39m\u001b[38;5;124m'\u001b[39m):\n\u001b[0;32m     66\u001b[0m     \u001b[38;5;28;01mif\u001b[39;00m \u001b[38;5;28mself\u001b[39m\u001b[38;5;241m.\u001b[39mdataset \u001b[38;5;241m!=\u001b[39m \u001b[38;5;28mself\u001b[39m\u001b[38;5;241m.\u001b[39mclassified_dataset:\n\u001b[1;32m---> 67\u001b[0m         \u001b[38;5;28;01mraise\u001b[39;00m \u001b[38;5;167;01mValueError\u001b[39;00m(\u001b[38;5;124m\"\u001b[39m\u001b[38;5;124mThe two datasets are expected to differ only \u001b[39m\u001b[38;5;124m\"\u001b[39m\n\u001b[0;32m     68\u001b[0m                          \u001b[38;5;124m\"\u001b[39m\u001b[38;5;124min \u001b[39m\u001b[38;5;124m'\u001b[39m\u001b[38;5;124mlabels\u001b[39m\u001b[38;5;124m'\u001b[39m\u001b[38;5;124m or \u001b[39m\u001b[38;5;124m'\u001b[39m\u001b[38;5;124mscores\u001b[39m\u001b[38;5;124m'\u001b[39m\u001b[38;5;124m.\u001b[39m\u001b[38;5;124m\"\u001b[39m)\n",
      "\u001b[1;31mValueError\u001b[0m: The two datasets are expected to differ only in 'labels' or 'scores'."
     ]
    }
   ],
   "source": [
    "from aif360.metrics import BinaryLabelDatasetMetric, ClassificationMetric\n",
    "\n",
    "# Step 1: Disparate Impact with BinaryLabelDatasetMetric (using original data only)\n",
    "metric_pre = BinaryLabelDatasetMetric(\n",
    "    data,  # Use only the original dataset\n",
    "    unprivileged_groups=[{'Gender': 0}],\n",
    "    privileged_groups=[{'Gender': 1}]\n",
    ")\n",
    "disparate_impact_pre = metric_pre.disparate_impact()\n",
    "print(f\"Disparate Impact: {disparate_impact_pre}\")\n",
    "\n",
    "# Step 2: Equal Opportunity Difference with ClassificationMetric (requires both original and predicted datasets)\n",
    "classification_metric = ClassificationMetric(\n",
    "    data,\n",
    "    predicted_data,\n",
    "    unprivileged_groups=[{'Gender': 0}],\n",
    "    privileged_groups=[{'Gender': 1}]\n",
    ")\n",
    "equal_opportunity_pre = classification_metric.equal_opportunity_difference()\n",
    "print(f\"Equal Opportunity Difference: {equal_opportunity_pre}\")\n"
   ]
  },
  {
   "cell_type": "code",
   "execution_count": 22,
   "metadata": {},
   "outputs": [
    {
     "ename": "AttributeError",
     "evalue": "'BinaryLabelDatasetMetric' object has no attribute 'true_positive_rate'",
     "output_type": "error",
     "traceback": [
      "\u001b[0;31m---------------------------------------------------------------------------\u001b[0m",
      "\u001b[0;31mAttributeError\u001b[0m                            Traceback (most recent call last)",
      "Cell \u001b[0;32mIn[22], line 13\u001b[0m\n\u001b[1;32m     10\u001b[0m disparate_impact_pre \u001b[38;5;241m=\u001b[39m metric_pre\u001b[38;5;241m.\u001b[39mdisparate_impact()\n\u001b[1;32m     12\u001b[0m \u001b[38;5;66;03m# Manually calculate the Equal Opportunity Difference\u001b[39;00m\n\u001b[0;32m---> 13\u001b[0m tpr_privileged_pre \u001b[38;5;241m=\u001b[39m metric_pre\u001b[38;5;241m.\u001b[39mtrue_positive_rate()\n\u001b[1;32m     14\u001b[0m tpr_unprivileged_pre \u001b[38;5;241m=\u001b[39m metric_pre\u001b[38;5;241m.\u001b[39mtrue_positive_rate()\n\u001b[1;32m     15\u001b[0m equal_opportunity_pre \u001b[38;5;241m=\u001b[39m tpr_privileged_pre \u001b[38;5;241m-\u001b[39m tpr_unprivileged_pre\n",
      "\u001b[0;31mAttributeError\u001b[0m: 'BinaryLabelDatasetMetric' object has no attribute 'true_positive_rate'"
     ]
    }
   ],
   "source": [
    "from aif360.metrics import BinaryLabelDatasetMetric\n",
    "\n",
    "# Assuming 'data' is your original dataset in AIF360's BinaryLabelDataset format\n",
    "# Calculate metrics for the original dataset\n",
    "metric_pre = BinaryLabelDatasetMetric(data,\n",
    "                                       unprivileged_groups=[{'Gender': 0}],  # Unprivileged group: Male\n",
    "                                       privileged_groups=[{'Gender': 1}])    # Privileged group: Female\n",
    "\n",
    "# Calculate metrics before debiasing\n",
    "disparate_impact_pre = metric_pre.disparate_impact()\n",
    "\n",
    "# Manually calculate the Equal Opportunity Difference\n",
    "tpr_privileged_pre = metric_pre.true_positive_rate()\n",
    "tpr_unprivileged_pre = metric_pre.true_positive_rate()\n",
    "equal_opportunity_pre = tpr_privileged_pre - tpr_unprivileged_pre\n",
    "\n",
    "print(f\"Disparate Impact (Pre Post-processing): {disparate_impact_pre}\")\n",
    "print(f\"Equal Opportunity Difference (Pre Post-processing): {equal_opportunity_pre}\")\n",
    "\n",
    "# After applying debiasing, use the predictions to calculate the same metrics\n",
    "# Assuming `predictions` is the predicted output from your debiased model\n",
    "predicted_dataset = data.copy()  # Create a copy of the original dataset\n",
    "predicted_dataset.labels = predictions  # Replace the labels with your model's predictions\n",
    "\n",
    "# Calculate metrics for the predicted dataset\n",
    "metric_post = BinaryLabelDatasetMetric(predicted_dataset,\n",
    "                                        unprivileged_groups=[{'Gender': 0}],  # Unprivileged group: Male\n",
    "                                        privileged_groups=[{'Gender': 1}])    # Privileged group: Female\n",
    "\n",
    "# Calculate metrics after debiasing\n",
    "disparate_impact_post = metric_post.disparate_impact()\n",
    "\n",
    "# Manually calculate the Equal Opportunity Difference for the post-processed dataset\n",
    "tpr_privileged_post = metric_post.true_positive_rate()\n",
    "tpr_unprivileged_post = metric_post.true_positive_rate()\n",
    "equal_opportunity_post = tpr_privileged_post - tpr_unprivileged_post\n",
    "\n",
    "print(f\"Disparate Impact (Post Post-processing): {disparate_impact_post}\")\n",
    "print(f\"Equal Opportunity Difference (Post Post-processing): {equal_opportunity_post}\")"
   ]
  },
  {
   "cell_type": "code",
   "execution_count": 18,
   "metadata": {},
   "outputs": [
    {
     "name": "stdout",
     "output_type": "stream",
     "text": [
      "Demographic Parity Difference: nan\n",
      "Equal Opportunity Difference: nan\n"
     ]
    },
    {
     "name": "stderr",
     "output_type": "stream",
     "text": [
      "/Users/kashishvarmaa/Documents/5 Sem/DL/Bias_Mitigation/.conda/lib/python3.11/site-packages/aif360/metrics/dataset_metric.py:82: RuntimeWarning: invalid value encountered in scalar divide\n",
      "  return metric_fun(privileged=False) / metric_fun(privileged=True)\n",
      "/Users/kashishvarmaa/Documents/5 Sem/DL/Bias_Mitigation/.conda/lib/python3.11/site-packages/aif360/metrics/classification_metric.py:278: RuntimeWarning: invalid value encountered in scalar divide\n",
      "  TPR=TP / P, TNR=TN / N, FPR=FP / N, FNR=FN / P,\n",
      "/Users/kashishvarmaa/Documents/5 Sem/DL/Bias_Mitigation/.conda/lib/python3.11/site-packages/aif360/metrics/classification_metric.py:279: RuntimeWarning: invalid value encountered in scalar divide\n",
      "  GTPR=GTP / P, GTNR=GTN / N, GFPR=GFP / N, GFNR=GFN / P,\n"
     ]
    }
   ],
   "source": [
    "# Demographic parity\n",
    "print(f\"Demographic Parity Difference: {metric.disparate_impact()}\")\n",
    "\n",
    "# Equal opportunity difference\n",
    "print(f\"Equal Opportunity Difference: {metric.equal_opportunity_difference()}\")"
   ]
  },
  {
   "cell_type": "markdown",
   "metadata": {},
   "source": [
    "### Post Processing - Equalized Odds Post-processing"
   ]
  },
  {
   "cell_type": "code",
   "execution_count": 101,
   "metadata": {},
   "outputs": [
    {
     "name": "stderr",
     "output_type": "stream",
     "text": [
      "c:\\Users\\ssrut\\AppData\\Local\\Programs\\Python\\Python312\\Lib\\site-packages\\aif360\\metrics\\classification_metric.py:278: RuntimeWarning: invalid value encountered in scalar divide\n",
      "  TPR=TP / P, TNR=TN / N, FPR=FP / N, FNR=FN / P,\n",
      "c:\\Users\\ssrut\\AppData\\Local\\Programs\\Python\\Python312\\Lib\\site-packages\\aif360\\metrics\\classification_metric.py:279: RuntimeWarning: invalid value encountered in scalar divide\n",
      "  GTPR=GTP / P, GTNR=GTN / N, GFPR=GFP / N, GFNR=GFN / P,\n",
      "c:\\Users\\ssrut\\AppData\\Local\\Programs\\Python\\Python312\\Lib\\site-packages\\aif360\\algorithms\\postprocessing\\eq_odds_postprocessing.py:177: RuntimeWarning: invalid value encountered in scalar divide\n",
      "  (np.mean(oflip*om_tp) - np.mean(oconst*om_tp)) / obr,\n",
      "c:\\Users\\ssrut\\AppData\\Local\\Programs\\Python\\Python312\\Lib\\site-packages\\aif360\\algorithms\\postprocessing\\eq_odds_postprocessing.py:178: RuntimeWarning: invalid value encountered in scalar divide\n",
      "  (np.mean(oconst*om_fn) - np.mean(oflip*om_fn)) / obr],\n",
      "c:\\Users\\ssrut\\AppData\\Local\\Programs\\Python\\Python312\\Lib\\site-packages\\aif360\\algorithms\\postprocessing\\eq_odds_postprocessing.py:179: RuntimeWarning: invalid value encountered in scalar divide\n",
      "  [(np.mean(sconst*sm_fp) - np.mean(sflip*sm_fp)) / (1-sbr),\n",
      "c:\\Users\\ssrut\\AppData\\Local\\Programs\\Python\\Python312\\Lib\\site-packages\\aif360\\algorithms\\postprocessing\\eq_odds_postprocessing.py:180: RuntimeWarning: invalid value encountered in scalar divide\n",
      "  (np.mean(sflip*sm_tn) - np.mean(sconst*sm_tn)) / (1-sbr),\n",
      "c:\\Users\\ssrut\\AppData\\Local\\Programs\\Python\\Python312\\Lib\\site-packages\\aif360\\algorithms\\postprocessing\\eq_odds_postprocessing.py:184: RuntimeWarning: invalid value encountered in scalar divide\n",
      "  b_eq = [(np.mean(oflip*om_tp) + np.mean(oconst*om_fn)) / obr\n",
      "c:\\Users\\ssrut\\AppData\\Local\\Programs\\Python\\Python312\\Lib\\site-packages\\aif360\\algorithms\\postprocessing\\eq_odds_postprocessing.py:187: RuntimeWarning: invalid value encountered in scalar divide\n",
      "  - (np.mean(sflip*sm_fp) + np.mean(sconst*sm_tn)) / (1-sbr)]\n"
     ]
    },
    {
     "ename": "ValueError",
     "evalue": "Invalid input for linprog: c must not contain values inf, nan, or None",
     "output_type": "error",
     "traceback": [
      "\u001b[1;31m---------------------------------------------------------------------------\u001b[0m",
      "\u001b[1;31mValueError\u001b[0m                                Traceback (most recent call last)",
      "Cell \u001b[1;32mIn[101], line 4\u001b[0m\n\u001b[0;32m      1\u001b[0m eq_odds \u001b[38;5;241m=\u001b[39m EqOddsPostprocessing(privileged_groups\u001b[38;5;241m=\u001b[39m[{\u001b[38;5;124m'\u001b[39m\u001b[38;5;124mGender\u001b[39m\u001b[38;5;124m'\u001b[39m: \u001b[38;5;241m1\u001b[39m}], \n\u001b[0;32m      2\u001b[0m                                unprivileged_groups\u001b[38;5;241m=\u001b[39m[{\u001b[38;5;124m'\u001b[39m\u001b[38;5;124mGender\u001b[39m\u001b[38;5;124m'\u001b[39m: \u001b[38;5;241m0\u001b[39m}])\n\u001b[1;32m----> 4\u001b[0m predictions_post \u001b[38;5;241m=\u001b[39m \u001b[43meq_odds\u001b[49m\u001b[38;5;241;43m.\u001b[39;49m\u001b[43mfit_predict\u001b[49m\u001b[43m(\u001b[49m\u001b[43mtest\u001b[49m\u001b[43m,\u001b[49m\u001b[43m \u001b[49m\u001b[43mpredictions\u001b[49m\u001b[43m)\u001b[49m\n",
      "File \u001b[1;32mc:\\Users\\ssrut\\AppData\\Local\\Programs\\Python\\Python312\\Lib\\site-packages\\aif360\\algorithms\\transformer.py:27\u001b[0m, in \u001b[0;36maddmetadata.<locals>.wrapper\u001b[1;34m(self, *args, **kwargs)\u001b[0m\n\u001b[0;32m     25\u001b[0m \u001b[38;5;129m@wraps\u001b[39m(func)\n\u001b[0;32m     26\u001b[0m \u001b[38;5;28;01mdef\u001b[39;00m \u001b[38;5;21mwrapper\u001b[39m(\u001b[38;5;28mself\u001b[39m, \u001b[38;5;241m*\u001b[39margs, \u001b[38;5;241m*\u001b[39m\u001b[38;5;241m*\u001b[39mkwargs):\n\u001b[1;32m---> 27\u001b[0m     new_dataset \u001b[38;5;241m=\u001b[39m \u001b[43mfunc\u001b[49m\u001b[43m(\u001b[49m\u001b[38;5;28;43mself\u001b[39;49m\u001b[43m,\u001b[49m\u001b[43m \u001b[49m\u001b[38;5;241;43m*\u001b[39;49m\u001b[43margs\u001b[49m\u001b[43m,\u001b[49m\u001b[43m \u001b[49m\u001b[38;5;241;43m*\u001b[39;49m\u001b[38;5;241;43m*\u001b[39;49m\u001b[43mkwargs\u001b[49m\u001b[43m)\u001b[49m\n\u001b[0;32m     28\u001b[0m     \u001b[38;5;28;01mif\u001b[39;00m \u001b[38;5;28misinstance\u001b[39m(new_dataset, Dataset):\n\u001b[0;32m     29\u001b[0m         new_dataset\u001b[38;5;241m.\u001b[39mmetadata \u001b[38;5;241m=\u001b[39m new_dataset\u001b[38;5;241m.\u001b[39mmetadata\u001b[38;5;241m.\u001b[39mcopy()\n",
      "File \u001b[1;32mc:\\Users\\ssrut\\AppData\\Local\\Programs\\Python\\Python312\\Lib\\site-packages\\aif360\\algorithms\\postprocessing\\eq_odds_postprocessing.py:257\u001b[0m, in \u001b[0;36mEqOddsPostprocessing.fit_predict\u001b[1;34m(self, dataset_true, dataset_pred)\u001b[0m\n\u001b[0;32m    255\u001b[0m \u001b[38;5;28;01mdef\u001b[39;00m \u001b[38;5;21mfit_predict\u001b[39m(\u001b[38;5;28mself\u001b[39m, dataset_true, dataset_pred):\n\u001b[0;32m    256\u001b[0m \u001b[38;5;250m    \u001b[39m\u001b[38;5;124;03m\"\"\"fit and predict methods sequentially.\"\"\"\u001b[39;00m\n\u001b[1;32m--> 257\u001b[0m     \u001b[38;5;28;01mreturn\u001b[39;00m \u001b[38;5;28;43mself\u001b[39;49m\u001b[38;5;241;43m.\u001b[39;49m\u001b[43mfit\u001b[49m\u001b[43m(\u001b[49m\u001b[43mdataset_true\u001b[49m\u001b[43m,\u001b[49m\u001b[43m \u001b[49m\u001b[43mdataset_pred\u001b[49m\u001b[43m)\u001b[49m\u001b[38;5;241m.\u001b[39mpredict(dataset_pred)\n",
      "File \u001b[1;32mc:\\Users\\ssrut\\AppData\\Local\\Programs\\Python\\Python312\\Lib\\site-packages\\aif360\\algorithms\\transformer.py:27\u001b[0m, in \u001b[0;36maddmetadata.<locals>.wrapper\u001b[1;34m(self, *args, **kwargs)\u001b[0m\n\u001b[0;32m     25\u001b[0m \u001b[38;5;129m@wraps\u001b[39m(func)\n\u001b[0;32m     26\u001b[0m \u001b[38;5;28;01mdef\u001b[39;00m \u001b[38;5;21mwrapper\u001b[39m(\u001b[38;5;28mself\u001b[39m, \u001b[38;5;241m*\u001b[39margs, \u001b[38;5;241m*\u001b[39m\u001b[38;5;241m*\u001b[39mkwargs):\n\u001b[1;32m---> 27\u001b[0m     new_dataset \u001b[38;5;241m=\u001b[39m \u001b[43mfunc\u001b[49m\u001b[43m(\u001b[49m\u001b[38;5;28;43mself\u001b[39;49m\u001b[43m,\u001b[49m\u001b[43m \u001b[49m\u001b[38;5;241;43m*\u001b[39;49m\u001b[43margs\u001b[49m\u001b[43m,\u001b[49m\u001b[43m \u001b[49m\u001b[38;5;241;43m*\u001b[39;49m\u001b[38;5;241;43m*\u001b[39;49m\u001b[43mkwargs\u001b[49m\u001b[43m)\u001b[49m\n\u001b[0;32m     28\u001b[0m     \u001b[38;5;28;01mif\u001b[39;00m \u001b[38;5;28misinstance\u001b[39m(new_dataset, Dataset):\n\u001b[0;32m     29\u001b[0m         new_dataset\u001b[38;5;241m.\u001b[39mmetadata \u001b[38;5;241m=\u001b[39m new_dataset\u001b[38;5;241m.\u001b[39mmetadata\u001b[38;5;241m.\u001b[39mcopy()\n",
      "File \u001b[1;32mc:\\Users\\ssrut\\AppData\\Local\\Programs\\Python\\Python312\\Lib\\site-packages\\aif360\\algorithms\\postprocessing\\eq_odds_postprocessing.py:190\u001b[0m, in \u001b[0;36mEqOddsPostprocessing.fit\u001b[1;34m(self, dataset_true, dataset_pred)\u001b[0m\n\u001b[0;32m    184\u001b[0m b_eq \u001b[38;5;241m=\u001b[39m [(np\u001b[38;5;241m.\u001b[39mmean(oflip\u001b[38;5;241m*\u001b[39mom_tp) \u001b[38;5;241m+\u001b[39m np\u001b[38;5;241m.\u001b[39mmean(oconst\u001b[38;5;241m*\u001b[39mom_fn)) \u001b[38;5;241m/\u001b[39m obr\n\u001b[0;32m    185\u001b[0m       \u001b[38;5;241m-\u001b[39m (np\u001b[38;5;241m.\u001b[39mmean(sflip\u001b[38;5;241m*\u001b[39msm_tp) \u001b[38;5;241m+\u001b[39m np\u001b[38;5;241m.\u001b[39mmean(sconst\u001b[38;5;241m*\u001b[39msm_fn)) \u001b[38;5;241m/\u001b[39m sbr,\n\u001b[0;32m    186\u001b[0m         (np\u001b[38;5;241m.\u001b[39mmean(oflip\u001b[38;5;241m*\u001b[39mom_fp) \u001b[38;5;241m+\u001b[39m np\u001b[38;5;241m.\u001b[39mmean(oconst\u001b[38;5;241m*\u001b[39mom_tn)) \u001b[38;5;241m/\u001b[39m (\u001b[38;5;241m1\u001b[39m\u001b[38;5;241m-\u001b[39mobr)\n\u001b[0;32m    187\u001b[0m       \u001b[38;5;241m-\u001b[39m (np\u001b[38;5;241m.\u001b[39mmean(sflip\u001b[38;5;241m*\u001b[39msm_fp) \u001b[38;5;241m+\u001b[39m np\u001b[38;5;241m.\u001b[39mmean(sconst\u001b[38;5;241m*\u001b[39msm_tn)) \u001b[38;5;241m/\u001b[39m (\u001b[38;5;241m1\u001b[39m\u001b[38;5;241m-\u001b[39msbr)]\n\u001b[0;32m    189\u001b[0m \u001b[38;5;66;03m# Linear program\u001b[39;00m\n\u001b[1;32m--> 190\u001b[0m \u001b[38;5;28mself\u001b[39m\u001b[38;5;241m.\u001b[39mmodel_params \u001b[38;5;241m=\u001b[39m \u001b[43mlinprog\u001b[49m\u001b[43m(\u001b[49m\u001b[43mc\u001b[49m\u001b[43m,\u001b[49m\u001b[43m \u001b[49m\u001b[43mA_ub\u001b[49m\u001b[38;5;241;43m=\u001b[39;49m\u001b[43mA_ub\u001b[49m\u001b[43m,\u001b[49m\u001b[43m \u001b[49m\u001b[43mb_ub\u001b[49m\u001b[38;5;241;43m=\u001b[39;49m\u001b[43mb_ub\u001b[49m\u001b[43m,\u001b[49m\u001b[43m \u001b[49m\u001b[43mA_eq\u001b[49m\u001b[38;5;241;43m=\u001b[39;49m\u001b[43mA_eq\u001b[49m\u001b[43m,\u001b[49m\u001b[43m \u001b[49m\u001b[43mb_eq\u001b[49m\u001b[38;5;241;43m=\u001b[39;49m\u001b[43mb_eq\u001b[49m\u001b[43m)\u001b[49m\n\u001b[0;32m    192\u001b[0m \u001b[38;5;28;01mreturn\u001b[39;00m \u001b[38;5;28mself\u001b[39m\n",
      "File \u001b[1;32mc:\\Users\\ssrut\\AppData\\Local\\Programs\\Python\\Python312\\Lib\\site-packages\\scipy\\optimize\\_linprog.py:630\u001b[0m, in \u001b[0;36mlinprog\u001b[1;34m(c, A_ub, b_ub, A_eq, b_eq, bounds, method, callback, options, x0, integrality)\u001b[0m\n\u001b[0;32m    627\u001b[0m     integrality \u001b[38;5;241m=\u001b[39m np\u001b[38;5;241m.\u001b[39mbroadcast_to(integrality, np\u001b[38;5;241m.\u001b[39mshape(c))\n\u001b[0;32m    629\u001b[0m lp \u001b[38;5;241m=\u001b[39m _LPProblem(c, A_ub, b_ub, A_eq, b_eq, bounds, x0, integrality)\n\u001b[1;32m--> 630\u001b[0m lp, solver_options \u001b[38;5;241m=\u001b[39m \u001b[43m_parse_linprog\u001b[49m\u001b[43m(\u001b[49m\u001b[43mlp\u001b[49m\u001b[43m,\u001b[49m\u001b[43m \u001b[49m\u001b[43moptions\u001b[49m\u001b[43m,\u001b[49m\u001b[43m \u001b[49m\u001b[43mmeth\u001b[49m\u001b[43m)\u001b[49m\n\u001b[0;32m    631\u001b[0m tol \u001b[38;5;241m=\u001b[39m solver_options\u001b[38;5;241m.\u001b[39mget(\u001b[38;5;124m'\u001b[39m\u001b[38;5;124mtol\u001b[39m\u001b[38;5;124m'\u001b[39m, \u001b[38;5;241m1e-9\u001b[39m)\n\u001b[0;32m    633\u001b[0m \u001b[38;5;66;03m# Give unmodified problem to HiGHS\u001b[39;00m\n",
      "File \u001b[1;32mc:\\Users\\ssrut\\AppData\\Local\\Programs\\Python\\Python312\\Lib\\site-packages\\scipy\\optimize\\_linprog_util.py:1026\u001b[0m, in \u001b[0;36m_parse_linprog\u001b[1;34m(lp, options, meth)\u001b[0m\n\u001b[0;32m   1023\u001b[0m solver_options, A_ub, A_eq \u001b[38;5;241m=\u001b[39m _check_sparse_inputs(solver_options, meth,\n\u001b[0;32m   1024\u001b[0m                                                   lp\u001b[38;5;241m.\u001b[39mA_ub, lp\u001b[38;5;241m.\u001b[39mA_eq)\n\u001b[0;32m   1025\u001b[0m \u001b[38;5;66;03m# Convert lists to numpy arrays, etc...\u001b[39;00m\n\u001b[1;32m-> 1026\u001b[0m lp \u001b[38;5;241m=\u001b[39m \u001b[43m_clean_inputs\u001b[49m\u001b[43m(\u001b[49m\u001b[43mlp\u001b[49m\u001b[38;5;241;43m.\u001b[39;49m\u001b[43m_replace\u001b[49m\u001b[43m(\u001b[49m\u001b[43mA_ub\u001b[49m\u001b[38;5;241;43m=\u001b[39;49m\u001b[43mA_ub\u001b[49m\u001b[43m,\u001b[49m\u001b[43m \u001b[49m\u001b[43mA_eq\u001b[49m\u001b[38;5;241;43m=\u001b[39;49m\u001b[43mA_eq\u001b[49m\u001b[43m)\u001b[49m\u001b[43m)\u001b[49m\n\u001b[0;32m   1027\u001b[0m \u001b[38;5;28;01mreturn\u001b[39;00m lp, solver_options\n",
      "File \u001b[1;32mc:\\Users\\ssrut\\AppData\\Local\\Programs\\Python\\Python312\\Lib\\site-packages\\scipy\\optimize\\_linprog_util.py:306\u001b[0m, in \u001b[0;36m_clean_inputs\u001b[1;34m(lp)\u001b[0m\n\u001b[0;32m    302\u001b[0m         \u001b[38;5;28;01mraise\u001b[39;00m \u001b[38;5;167;01mValueError\u001b[39;00m(\n\u001b[0;32m    303\u001b[0m             \u001b[38;5;124m\"\u001b[39m\u001b[38;5;124mInvalid input for linprog: c must be a 1-D array and must \u001b[39m\u001b[38;5;124m\"\u001b[39m\n\u001b[0;32m    304\u001b[0m             \u001b[38;5;124m\"\u001b[39m\u001b[38;5;124mnot have more than one non-singleton dimension\u001b[39m\u001b[38;5;124m\"\u001b[39m)\n\u001b[0;32m    305\u001b[0m     \u001b[38;5;28;01mif\u001b[39;00m \u001b[38;5;129;01mnot\u001b[39;00m np\u001b[38;5;241m.\u001b[39misfinite(c)\u001b[38;5;241m.\u001b[39mall():\n\u001b[1;32m--> 306\u001b[0m         \u001b[38;5;28;01mraise\u001b[39;00m \u001b[38;5;167;01mValueError\u001b[39;00m(\n\u001b[0;32m    307\u001b[0m             \u001b[38;5;124m\"\u001b[39m\u001b[38;5;124mInvalid input for linprog: c must not contain values \u001b[39m\u001b[38;5;124m\"\u001b[39m\n\u001b[0;32m    308\u001b[0m             \u001b[38;5;124m\"\u001b[39m\u001b[38;5;124minf, nan, or None\u001b[39m\u001b[38;5;124m\"\u001b[39m)\n\u001b[0;32m    310\u001b[0m sparse_lhs \u001b[38;5;241m=\u001b[39m sps\u001b[38;5;241m.\u001b[39missparse(A_eq) \u001b[38;5;129;01mor\u001b[39;00m sps\u001b[38;5;241m.\u001b[39missparse(A_ub)\n\u001b[0;32m    311\u001b[0m \u001b[38;5;28;01mtry\u001b[39;00m:\n",
      "\u001b[1;31mValueError\u001b[0m: Invalid input for linprog: c must not contain values inf, nan, or None"
     ]
    }
   ],
   "source": [
    "eq_odds = EqOddsPostprocessing(privileged_groups=[{'Gender': 1}], \n",
    "                               unprivileged_groups=[{'Gender': 0}])\n",
    "\n",
    "predictions_post = eq_odds.fit_predict(test, predictions)"
   ]
  },
  {
   "cell_type": "markdown",
   "metadata": {},
   "source": [
    "### Evaluate Performance and Fairness After Post-processing"
   ]
  },
  {
   "cell_type": "markdown",
   "metadata": {},
   "source": [
    "#### Performance: Accuracy"
   ]
  },
  {
   "cell_type": "code",
   "execution_count": 118,
   "metadata": {},
   "outputs": [
    {
     "ename": "NameError",
     "evalue": "name 'predictions_post' is not defined",
     "output_type": "error",
     "traceback": [
      "\u001b[1;31m---------------------------------------------------------------------------\u001b[0m",
      "\u001b[1;31mNameError\u001b[0m                                 Traceback (most recent call last)",
      "Cell \u001b[1;32mIn[118], line 1\u001b[0m\n\u001b[1;32m----> 1\u001b[0m accuracy_post \u001b[38;5;241m=\u001b[39m accuracy_score(test\u001b[38;5;241m.\u001b[39mlabels, \u001b[43mpredictions_post\u001b[49m\u001b[38;5;241m.\u001b[39mlabels)\n\u001b[0;32m      2\u001b[0m \u001b[38;5;28mprint\u001b[39m(\u001b[38;5;124mf\u001b[39m\u001b[38;5;124m\"\u001b[39m\u001b[38;5;124mTest Accuracy (Post Post-processing): \u001b[39m\u001b[38;5;132;01m{\u001b[39;00maccuracy_post\u001b[38;5;132;01m:\u001b[39;00m\u001b[38;5;124m.4f\u001b[39m\u001b[38;5;132;01m}\u001b[39;00m\u001b[38;5;124m\"\u001b[39m)\n",
      "\u001b[1;31mNameError\u001b[0m: name 'predictions_post' is not defined"
     ]
    }
   ],
   "source": [
    "accuracy_post = accuracy_score(test.labels, predictions_post.labels)\n",
    "print(f\"Test Accuracy (Post Post-processing): {accuracy_post:.4f}\")"
   ]
  },
  {
   "cell_type": "markdown",
   "metadata": {},
   "source": [
    "#### Fairness Metrics"
   ]
  },
  {
   "cell_type": "code",
   "execution_count": null,
   "metadata": {},
   "outputs": [],
   "source": [
    "\n",
    "metric_post = ClassificationMetric(test, predictions_post,\n",
    "                                   unprivileged_groups=[{'Gender': 0}],\n",
    "                                   privileged_groups=[{'Gender': 1}])"
   ]
  },
  {
   "cell_type": "markdown",
   "metadata": {},
   "source": [
    "#### Fairness: Disparate Impact and Equal Opportunity Difference"
   ]
  },
  {
   "cell_type": "code",
   "execution_count": null,
   "metadata": {},
   "outputs": [],
   "source": [
    "disparate_impact_post = metric_post.disparate_impact()\n",
    "equal_opportunity_post = metric_post.equal_opportunity_difference()\n",
    "\n",
    "print(f\"Disparate Impact (Post Post-processing): {disparate_impact_post}\")\n",
    "print(f\"Equal Opportunity Difference (Post Post-processing): {equal_opportunity_post}\")"
   ]
  },
  {
   "cell_type": "markdown",
   "metadata": {},
   "source": [
    "### Visualizing Bias Mitigation"
   ]
  },
  {
   "cell_type": "markdown",
   "metadata": {},
   "source": [
    "#### Plot Demographic Parity (Disparate Impact)"
   ]
  },
  {
   "cell_type": "code",
   "execution_count": 116,
   "metadata": {},
   "outputs": [
    {
     "data": {
      "image/png": "[encoded data removed]",
      "text/plain": [
       "<Figure size 640x480 with 1 Axes>"
      ]
     },
     "metadata": {},
     "output_type": "display_data"
    },
    {
     "data": {
      "image/png": "[encoded data removed]",
      "text/plain": [
       "<Figure size 640x480 with 1 Axes>"
      ]
     },
     "metadata": {},
     "output_type": "display_data"
    }
   ],
   "source": [
    "import matplotlib.pyplot as plt\n",
    "# use pre in post data to plot graph\n",
    "# Plot demographic parity difference\n",
    "plt.bar(['Demographic Parity Difference'], [metric.disparate_impact()])\n",
    "plt.title('Demographic Parity Difference')\n",
    "plt.show()\n",
    "\n",
    "# Plot equal opportunity difference\n",
    "plt.bar(['Equal Opportunity Difference'], [metric.equal_opportunity_difference()])\n",
    "plt.title('Equal Opportunity Difference')\n",
    "plt.show()\n"
   ]
  },
  {
   "cell_type": "code",
   "execution_count": 117,
   "metadata": {},
   "outputs": [
    {
     "ename": "NameError",
     "evalue": "name 'pre_data' is not defined",
     "output_type": "error",
     "traceback": [
      "\u001b[1;31m---------------------------------------------------------------------------\u001b[0m",
      "\u001b[1;31mNameError\u001b[0m                                 Traceback (most recent call last)",
      "Cell \u001b[1;32mIn[117], line 10\u001b[0m\n\u001b[0;32m      4\u001b[0m \u001b[38;5;66;03m# Assume you have three datasets: pre_data, in_data, post_data\u001b[39;00m\n\u001b[0;32m      5\u001b[0m \n\u001b[0;32m      6\u001b[0m \u001b[38;5;66;03m# Step 1: Calculate Demographic Parity Difference for each dataset\u001b[39;00m\n\u001b[0;32m      7\u001b[0m demographic_parity_differences \u001b[38;5;241m=\u001b[39m {}\n\u001b[0;32m      9\u001b[0m \u001b[38;5;28;01mfor\u001b[39;00m stage, dataset \u001b[38;5;129;01min\u001b[39;00m \u001b[38;5;28mzip\u001b[39m([\u001b[38;5;124m'\u001b[39m\u001b[38;5;124mPre-Processing\u001b[39m\u001b[38;5;124m'\u001b[39m, \u001b[38;5;124m'\u001b[39m\u001b[38;5;124mIn-Processing\u001b[39m\u001b[38;5;124m'\u001b[39m, \u001b[38;5;124m'\u001b[39m\u001b[38;5;124mPost-Processing\u001b[39m\u001b[38;5;124m'\u001b[39m],\n\u001b[1;32m---> 10\u001b[0m                           [\u001b[43mpre_data\u001b[49m, in_data, post_data]):\n\u001b[0;32m     11\u001b[0m     metric \u001b[38;5;241m=\u001b[39m ClassificationMetric(\n\u001b[0;32m     12\u001b[0m         original_dataset\u001b[38;5;241m=\u001b[39mpre_data,   \u001b[38;5;66;03m# Original dataset as the baseline\u001b[39;00m\n\u001b[0;32m     13\u001b[0m         classified_dataset\u001b[38;5;241m=\u001b[39mdataset,  \u001b[38;5;66;03m# Predicted dataset at this stage\u001b[39;00m\n\u001b[0;32m     14\u001b[0m         unprivileged_groups\u001b[38;5;241m=\u001b[39m[{\u001b[38;5;124m'\u001b[39m\u001b[38;5;124mGender\u001b[39m\u001b[38;5;124m'\u001b[39m: \u001b[38;5;241m0\u001b[39m}],\n\u001b[0;32m     15\u001b[0m         privileged_groups\u001b[38;5;241m=\u001b[39m[{\u001b[38;5;124m'\u001b[39m\u001b[38;5;124mGender\u001b[39m\u001b[38;5;124m'\u001b[39m: \u001b[38;5;241m1\u001b[39m}]\n\u001b[0;32m     16\u001b[0m     )\n\u001b[0;32m     17\u001b[0m     demographic_parity_differences[stage] \u001b[38;5;241m=\u001b[39m metric\u001b[38;5;241m.\u001b[39mdisparate_impact()\n",
      "\u001b[1;31mNameError\u001b[0m: name 'pre_data' is not defined"
     ]
    }
   ],
   "source": [
    "import matplotlib.pyplot as plt\n",
    "from aif360.metrics import ClassificationMetric\n",
    "\n",
    "# Assume you have three datasets: pre_data, in_data, post_data\n",
    "\n",
    "# Step 1: Calculate Demographic Parity Difference for each dataset\n",
    "demographic_parity_differences = {}\n",
    "\n",
    "for stage, dataset in zip(['Pre-Processing', 'In-Processing', 'Post-Processing'],\n",
    "                          [pre_data, in_data, post_data]):\n",
    "    metric = ClassificationMetric(\n",
    "        original_dataset=pre_data,   # Original dataset as the baseline\n",
    "        classified_dataset=dataset,  # Predicted dataset at this stage\n",
    "        unprivileged_groups=[{'Gender': 0}],\n",
    "        privileged_groups=[{'Gender': 1}]\n",
    "    )\n",
    "    demographic_parity_differences[stage] = metric.disparate_impact()\n",
    "\n",
    "# Step 2: Plot Demographic Parity Difference\n",
    "plt.figure(figsize=(8, 5))\n",
    "plt.bar(demographic_parity_differences.keys(), demographic_parity_differences.values(), color='lightgreen')\n",
    "plt.title('Demographic Parity Difference (Disparate Impact) Across Stages')\n",
    "plt.ylabel('Demographic Parity Difference')\n",
    "plt.ylim(0, 2)  # Adjust y-axis limits if necessary\n",
    "plt.axhline(1, color='red', linestyle='--', label='Equality Line (1)')  # Reference line\n",
    "plt.grid(axis='y')\n",
    "plt.legend()\n",
    "plt.show()\n"
   ]
  },
  {
   "cell_type": "markdown",
   "metadata": {},
   "source": [
    "#### Plot Equal Opportunity Difference"
   ]
  },
  {
   "cell_type": "code",
   "execution_count": null,
   "metadata": {},
   "outputs": [],
   "source": [
    "plt.bar(['Pre Post-processing', 'Post Post-processing'], [equal_opportunity_pre, equal_opportunity_post])\n",
    "plt.title('Equal Opportunity Difference')\n",
    "plt.ylabel('Equal Opportunity Difference')\n",
    "plt.show()"
   ]
  },
  {
   "cell_type": "code",
   "execution_count": null,
   "metadata": {},
   "outputs": [],
   "source": [
    "import matplotlib.pyplot as plt\n",
    "from aif360.metrics import ClassificationMetric\n",
    "\n",
    "# Assume you have three datasets: pre_data, in_data, post_data\n",
    "\n",
    "# Step 1: Calculate Equal Opportunity Difference for each dataset\n",
    "equal_opportunity_differences = {}\n",
    "\n",
    "for stage, dataset in zip(['Pre-Processing', 'In-Processing', 'Post-Processing'],\n",
    "                          [pre_data, in_data, post_data]):\n",
    "    metric = ClassificationMetric(\n",
    "        original_dataset=pre_data,   # Original dataset as the baseline\n",
    "        classified_dataset=dataset,  # Predicted dataset at this stage\n",
    "        unprivileged_groups=[{'Gender': 0}],\n",
    "        privileged_groups=[{'Gender': 1}]\n",
    "    )\n",
    "    equal_opportunity_differences[stage] = metric.equal_opportunity_difference()\n",
    "\n",
    "# Step 2: Plot Equal Opportunity Difference\n",
    "plt.figure(figsize=(8, 5))\n",
    "plt.bar(equal_opportunity_differences.keys(), equal_opportunity_differences.values(), color='skyblue')\n",
    "plt.title('Equal Opportunity Difference Across Stages')\n",
    "plt.ylabel('Equal Opportunity Difference')\n",
    "plt.ylim(-1, 1)  # Adjust y-axis limits if necessary\n",
    "plt.axhline(0, color='red', linestyle='--', label='Neutrality Line (0)')  # Reference line\n",
    "plt.grid(axis='y')\n",
    "plt.legend()\n",
    "plt.show()\n"
   ]
  }
 ],
 "metadata": {
  "kernelspec": {
   "display_name": "Python 3",
   "language": "python",
   "name": "python3"
  },
  "language_info": {
   "codemirror_mode": {
    "name": "ipython",
    "version": 3
   },
   "file_extension": ".py",
   "mimetype": "text/x-python",
   "name": "python",
   "nbconvert_exporter": "python",
   "pygments_lexer": "ipython3",
   "version": "3.12.2"
  }
 },
 "nbformat": 4,
 "nbformat_minor": 2
}
