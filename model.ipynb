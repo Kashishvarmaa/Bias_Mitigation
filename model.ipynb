{
 "cells": [
  {
   "cell_type": "markdown",
   "metadata": {},
   "source": [
    "### Import Necessary Libraries"
   ]
  },
  {
   "cell_type": "code",
   "execution_count": 2,
   "metadata": {},
   "outputs": [],
   "source": [
    "import pandas as pd\n",
    "import numpy as np\n",
    "import tensorflow as tf\n",
    "from sklearn.model_selection import train_test_split\n",
    "from sklearn.metrics import accuracy_score\n",
    "from aif360.datasets import BinaryLabelDataset\n",
    "from aif360.algorithms.preprocessing import Reweighing\n",
    "from aif360.algorithms.inprocessing import AdversarialDebiasing\n",
    "from aif360.algorithms.postprocessing import EqOddsPostprocessing\n",
    "from aif360.metrics import ClassificationMetric\n",
    "import matplotlib.pyplot as plt"
   ]
  },
  {
   "cell_type": "markdown",
   "metadata": {},
   "source": [
    "### Load the CSV File"
   ]
  },
  {
   "cell_type": "code",
   "execution_count": 3,
   "metadata": {},
   "outputs": [],
   "source": [
    "import pandas as pd\n",
    "\n",
    "# Load the dataset\n",
    "file_path = 'StudentFeedback_final.csv'\n",
    "df = pd.read_csv(file_path)"
   ]
  },
  {
   "cell_type": "code",
   "execution_count": 4,
   "metadata": {},
   "outputs": [
    {
     "data": {
      "text/html": [
       "<div>\n",
       "<style scoped>\n",
       "    .dataframe tbody tr th:only-of-type {\n",
       "        vertical-align: middle;\n",
       "    }\n",
       "\n",
       "    .dataframe tbody tr th {\n",
       "        vertical-align: top;\n",
       "    }\n",
       "\n",
       "    .dataframe thead th {\n",
       "        text-align: right;\n",
       "    }\n",
       "</style>\n",
       "<table border=\"1\" class=\"dataframe\">\n",
       "  <thead>\n",
       "    <tr style=\"text-align: right;\">\n",
       "      <th></th>\n",
       "      <th>Gender</th>\n",
       "      <th>Age</th>\n",
       "      <th>12th marks %</th>\n",
       "      <th>rural/ urban area</th>\n",
       "      <th>Why take this course?</th>\n",
       "      <th>Which teaching methods helped your learning?</th>\n",
       "      <th>Were you prepared to take this course based on prior coursework?</th>\n",
       "      <th>How much time did you spend weekly on this course outside of class for C01?</th>\n",
       "      <th>How much time did you spend weekly on this course outside of class for C02?</th>\n",
       "      <th>How much time did you spend weekly on this course outside of class for C03?</th>\n",
       "      <th>...</th>\n",
       "      <th>Explain briefly your rationale for you choice to the previous question</th>\n",
       "      <th>Would more faculty concern improve your learning in C01?</th>\n",
       "      <th>Would more faculty concern improve your learning in C02?</th>\n",
       "      <th>Would more faculty concern improve your learning in C03?</th>\n",
       "      <th>Would more faculty concern improve your learning in C04?</th>\n",
       "      <th>Would more outside help improve your learning in C01?</th>\n",
       "      <th>Would more outside help improve your learning in C02?</th>\n",
       "      <th>Would more outside help improve your learning in C03?</th>\n",
       "      <th>Would more outside help improve your learning in C04?</th>\n",
       "      <th>Your overall feedback</th>\n",
       "    </tr>\n",
       "  </thead>\n",
       "  <tbody>\n",
       "    <tr>\n",
       "      <th>0</th>\n",
       "      <td>1.0</td>\n",
       "      <td>0.333333</td>\n",
       "      <td>0.350515</td>\n",
       "      <td>1.0</td>\n",
       "      <td>0.388889</td>\n",
       "      <td>0.608333</td>\n",
       "      <td>1.0</td>\n",
       "      <td>0.250</td>\n",
       "      <td>0.250</td>\n",
       "      <td>0.222222</td>\n",
       "      <td>...</td>\n",
       "      <td>0.059908</td>\n",
       "      <td>0.0</td>\n",
       "      <td>0.0</td>\n",
       "      <td>0.0</td>\n",
       "      <td>0.0</td>\n",
       "      <td>0.0</td>\n",
       "      <td>0.0</td>\n",
       "      <td>0.0</td>\n",
       "      <td>0.0</td>\n",
       "      <td>0.000000</td>\n",
       "    </tr>\n",
       "    <tr>\n",
       "      <th>1</th>\n",
       "      <td>0.0</td>\n",
       "      <td>1.000000</td>\n",
       "      <td>0.340206</td>\n",
       "      <td>1.0</td>\n",
       "      <td>0.305556</td>\n",
       "      <td>0.516667</td>\n",
       "      <td>0.0</td>\n",
       "      <td>0.375</td>\n",
       "      <td>0.500</td>\n",
       "      <td>0.666667</td>\n",
       "      <td>...</td>\n",
       "      <td>0.147465</td>\n",
       "      <td>0.0</td>\n",
       "      <td>0.0</td>\n",
       "      <td>1.0</td>\n",
       "      <td>1.0</td>\n",
       "      <td>0.0</td>\n",
       "      <td>0.0</td>\n",
       "      <td>1.0</td>\n",
       "      <td>1.0</td>\n",
       "      <td>0.333333</td>\n",
       "    </tr>\n",
       "    <tr>\n",
       "      <th>2</th>\n",
       "      <td>1.0</td>\n",
       "      <td>0.666667</td>\n",
       "      <td>0.123711</td>\n",
       "      <td>0.0</td>\n",
       "      <td>0.527778</td>\n",
       "      <td>0.383333</td>\n",
       "      <td>1.0</td>\n",
       "      <td>0.500</td>\n",
       "      <td>0.500</td>\n",
       "      <td>0.555556</td>\n",
       "      <td>...</td>\n",
       "      <td>0.525346</td>\n",
       "      <td>1.0</td>\n",
       "      <td>1.0</td>\n",
       "      <td>1.0</td>\n",
       "      <td>1.0</td>\n",
       "      <td>1.0</td>\n",
       "      <td>1.0</td>\n",
       "      <td>1.0</td>\n",
       "      <td>1.0</td>\n",
       "      <td>0.000000</td>\n",
       "    </tr>\n",
       "    <tr>\n",
       "      <th>3</th>\n",
       "      <td>0.0</td>\n",
       "      <td>0.666667</td>\n",
       "      <td>0.268041</td>\n",
       "      <td>1.0</td>\n",
       "      <td>0.083333</td>\n",
       "      <td>0.316667</td>\n",
       "      <td>1.0</td>\n",
       "      <td>0.125</td>\n",
       "      <td>0.125</td>\n",
       "      <td>0.222222</td>\n",
       "      <td>...</td>\n",
       "      <td>0.695853</td>\n",
       "      <td>0.0</td>\n",
       "      <td>0.0</td>\n",
       "      <td>0.0</td>\n",
       "      <td>0.0</td>\n",
       "      <td>0.0</td>\n",
       "      <td>0.0</td>\n",
       "      <td>0.0</td>\n",
       "      <td>0.0</td>\n",
       "      <td>0.000000</td>\n",
       "    </tr>\n",
       "    <tr>\n",
       "      <th>4</th>\n",
       "      <td>1.0</td>\n",
       "      <td>0.333333</td>\n",
       "      <td>0.216495</td>\n",
       "      <td>1.0</td>\n",
       "      <td>0.722222</td>\n",
       "      <td>0.600000</td>\n",
       "      <td>0.0</td>\n",
       "      <td>0.125</td>\n",
       "      <td>0.125</td>\n",
       "      <td>0.111111</td>\n",
       "      <td>...</td>\n",
       "      <td>0.847926</td>\n",
       "      <td>0.0</td>\n",
       "      <td>0.0</td>\n",
       "      <td>0.0</td>\n",
       "      <td>0.0</td>\n",
       "      <td>0.0</td>\n",
       "      <td>0.0</td>\n",
       "      <td>0.0</td>\n",
       "      <td>0.0</td>\n",
       "      <td>0.000000</td>\n",
       "    </tr>\n",
       "  </tbody>\n",
       "</table>\n",
       "<p>5 rows × 45 columns</p>\n",
       "</div>"
      ],
      "text/plain": [
       "   Gender       Age  12th marks %  rural/ urban area  Why take this course?  \\\n",
       "0     1.0  0.333333      0.350515                1.0               0.388889   \n",
       "1     0.0  1.000000      0.340206                1.0               0.305556   \n",
       "2     1.0  0.666667      0.123711                0.0               0.527778   \n",
       "3     0.0  0.666667      0.268041                1.0               0.083333   \n",
       "4     1.0  0.333333      0.216495                1.0               0.722222   \n",
       "\n",
       "   Which teaching methods helped your learning?  \\\n",
       "0                                      0.608333   \n",
       "1                                      0.516667   \n",
       "2                                      0.383333   \n",
       "3                                      0.316667   \n",
       "4                                      0.600000   \n",
       "\n",
       "   Were you prepared to take this course based on prior coursework?  \\\n",
       "0                                                1.0                  \n",
       "1                                                0.0                  \n",
       "2                                                1.0                  \n",
       "3                                                1.0                  \n",
       "4                                                0.0                  \n",
       "\n",
       "   How much time did you spend weekly on this course outside of class for C01?  \\\n",
       "0                                              0.250                             \n",
       "1                                              0.375                             \n",
       "2                                              0.500                             \n",
       "3                                              0.125                             \n",
       "4                                              0.125                             \n",
       "\n",
       "   How much time did you spend weekly on this course outside of class for C02?  \\\n",
       "0                                              0.250                             \n",
       "1                                              0.500                             \n",
       "2                                              0.500                             \n",
       "3                                              0.125                             \n",
       "4                                              0.125                             \n",
       "\n",
       "   How much time did you spend weekly on this course outside of class for C03?  \\\n",
       "0                                           0.222222                             \n",
       "1                                           0.666667                             \n",
       "2                                           0.555556                             \n",
       "3                                           0.222222                             \n",
       "4                                           0.111111                             \n",
       "\n",
       "   ...  \\\n",
       "0  ...   \n",
       "1  ...   \n",
       "2  ...   \n",
       "3  ...   \n",
       "4  ...   \n",
       "\n",
       "   Explain briefly your rationale for you choice to the previous question  \\\n",
       "0                                           0.059908                        \n",
       "1                                           0.147465                        \n",
       "2                                           0.525346                        \n",
       "3                                           0.695853                        \n",
       "4                                           0.847926                        \n",
       "\n",
       "   Would more faculty concern improve your learning in C01?  \\\n",
       "0                                                0.0          \n",
       "1                                                0.0          \n",
       "2                                                1.0          \n",
       "3                                                0.0          \n",
       "4                                                0.0          \n",
       "\n",
       "   Would more faculty concern improve your learning in C02?  \\\n",
       "0                                                0.0          \n",
       "1                                                0.0          \n",
       "2                                                1.0          \n",
       "3                                                0.0          \n",
       "4                                                0.0          \n",
       "\n",
       "   Would more faculty concern improve your learning in C03?  \\\n",
       "0                                                0.0          \n",
       "1                                                1.0          \n",
       "2                                                1.0          \n",
       "3                                                0.0          \n",
       "4                                                0.0          \n",
       "\n",
       "   Would more faculty concern improve your learning in C04?  \\\n",
       "0                                                0.0          \n",
       "1                                                1.0          \n",
       "2                                                1.0          \n",
       "3                                                0.0          \n",
       "4                                                0.0          \n",
       "\n",
       "   Would more outside help improve your learning in C01?  \\\n",
       "0                                                0.0       \n",
       "1                                                0.0       \n",
       "2                                                1.0       \n",
       "3                                                0.0       \n",
       "4                                                0.0       \n",
       "\n",
       "   Would more outside help improve your learning in C02?  \\\n",
       "0                                                0.0       \n",
       "1                                                0.0       \n",
       "2                                                1.0       \n",
       "3                                                0.0       \n",
       "4                                                0.0       \n",
       "\n",
       "   Would more outside help improve your learning in C03?  \\\n",
       "0                                                0.0       \n",
       "1                                                1.0       \n",
       "2                                                1.0       \n",
       "3                                                0.0       \n",
       "4                                                0.0       \n",
       "\n",
       "   Would more outside help improve your learning in C04?  \\\n",
       "0                                                0.0       \n",
       "1                                                1.0       \n",
       "2                                                1.0       \n",
       "3                                                0.0       \n",
       "4                                                0.0       \n",
       "\n",
       "   Your overall feedback  \n",
       "0               0.000000  \n",
       "1               0.333333  \n",
       "2               0.000000  \n",
       "3               0.000000  \n",
       "4               0.000000  \n",
       "\n",
       "[5 rows x 45 columns]"
      ]
     },
     "execution_count": 4,
     "metadata": {},
     "output_type": "execute_result"
    }
   ],
   "source": [
    "# Display the first few rows of the dataset\n",
    "df.head()"
   ]
  },
  {
   "cell_type": "markdown",
   "metadata": {},
   "source": [
    "### Pre-process the Data"
   ]
  },
  {
   "cell_type": "markdown",
   "metadata": {},
   "source": [
    "#### Define the Target and Feature"
   ]
  },
  {
   "cell_type": "code",
   "execution_count": 5,
   "metadata": {},
   "outputs": [],
   "source": [
    "# Define the target variable (Gender) for gender bias mitigation\n",
    "y = df['Gender']\n",
    "\n",
    "# Define the features by dropping the target column (Gender)\n",
    "X = df.drop(columns=['Gender'])\n",
    "\n",
    "# Specify the sensitive feature for adversarial de-biasing\n",
    "sensitive_feature = 'Gender'\n"
   ]
  },
  {
   "cell_type": "markdown",
   "metadata": {},
   "source": [
    "### Convert the Dataset into AIF360 Format"
   ]
  },
  {
   "cell_type": "code",
   "execution_count": 6,
   "metadata": {},
   "outputs": [],
   "source": [
    "from aif360.datasets import BinaryLabelDataset\n",
    "\n",
    "# Convert the dataset into AIF360 BinaryLabelDataset format\n",
    "data = BinaryLabelDataset(df=pd.concat([X, y], axis=1),\n",
    "                          label_names=['Gender'],  # Set Gender as the label (target) for bias mitigation\n",
    "                          protected_attribute_names=['Gender'])  # Specify Gender as the sensitive attribute"
   ]
  },
  {
   "cell_type": "markdown",
   "metadata": {},
   "source": [
    "### Split the Data into Train and Test Sets"
   ]
  },
  {
   "cell_type": "code",
   "execution_count": 7,
   "metadata": {},
   "outputs": [],
   "source": [
    "from sklearn.model_selection import train_test_split\n",
    "\n",
    "# Split the data into training and testing sets\n",
    "train, test = data.split([0.8], shuffle=True)\n"
   ]
  },
  {
   "cell_type": "markdown",
   "metadata": {},
   "source": [
    "### Pre Processing: Reweighing the Dataset to Mitigate Bias"
   ]
  },
  {
   "cell_type": "code",
   "execution_count": 8,
   "metadata": {},
   "outputs": [
    {
     "name": "stderr",
     "output_type": "stream",
     "text": [
      "/Users/kashishvarmaa/Documents/5 Sem/DL/Bias_Mitigation/.conda/lib/python3.11/site-packages/aif360/algorithms/preprocessing/reweighing.py:67: RuntimeWarning: divide by zero encountered in scalar divide\n",
      "  self.w_p_unfav = n_unfav*n_p / (n*n_p_unfav)\n",
      "/Users/kashishvarmaa/Documents/5 Sem/DL/Bias_Mitigation/.conda/lib/python3.11/site-packages/aif360/algorithms/preprocessing/reweighing.py:68: RuntimeWarning: divide by zero encountered in scalar divide\n",
      "  self.w_up_fav = n_fav*n_up / (n*n_up_fav)\n"
     ]
    }
   ],
   "source": [
    "reweigher = Reweighing(unprivileged_groups=[{'Gender': 0}], privileged_groups=[{'Gender': 1}])\n",
    "train_reweighed = reweigher.fit_transform(train)"
   ]
  },
  {
   "cell_type": "markdown",
   "metadata": {},
   "source": [
    "### In Processing: Adversarial Debiasing Model"
   ]
  },
  {
   "cell_type": "code",
   "execution_count": 9,
   "metadata": {},
   "outputs": [],
   "source": [
    "import tensorflow as tf\n",
    "from aif360.algorithms.inprocessing import AdversarialDebiasing\n"
   ]
  },
  {
   "cell_type": "code",
   "execution_count": 10,
   "metadata": {},
   "outputs": [],
   "source": [
    "# Disable eager execution (for TensorFlow 2.x users)\n",
    "tf.compat.v1.disable_eager_execution()\n",
    "\n",
    "# Set up the session\n",
    "sess = tf.compat.v1.Session()\n"
   ]
  },
  {
   "cell_type": "markdown",
   "metadata": {},
   "source": [
    "#### Set Up and Train the Adversarial Debiasing Model:"
   ]
  },
  {
   "cell_type": "code",
   "execution_count": 11,
   "metadata": {},
   "outputs": [],
   "source": [
    "# Create the AdversarialDebiasing model\n",
    "adv_debiasing = AdversarialDebiasing(privileged_groups=[{'Gender': 1}],   # Privileged group: Female\n",
    "                                     unprivileged_groups=[{'Gender': 0}],  # Unprivileged group: Male\n",
    "                                     scope_name='debiasing_classifier',\n",
    "                                     debias=True,                         # Enable debiasing\n",
    "                                     sess=sess)"
   ]
  },
  {
   "cell_type": "markdown",
   "metadata": {},
   "source": [
    "#### Train the model"
   ]
  },
  {
   "cell_type": "code",
   "execution_count": 12,
   "metadata": {},
   "outputs": [
    {
     "name": "stdout",
     "output_type": "stream",
     "text": [
      "WARNING:tensorflow:From /Users/kashishvarmaa/Documents/5 Sem/DL/Bias_Mitigation/.conda/lib/python3.11/site-packages/tensorflow/python/util/dispatch.py:1260: calling dropout (from tensorflow.python.ops.nn_ops) with keep_prob is deprecated and will be removed in a future version.\n",
      "Instructions for updating:\n",
      "Please use `rate` instead of `keep_prob`. Rate should be set to `rate = 1 - keep_prob`.\n"
     ]
    },
    {
     "name": "stderr",
     "output_type": "stream",
     "text": [
      "WARNING:tensorflow:From /Users/kashishvarmaa/Documents/5 Sem/DL/Bias_Mitigation/.conda/lib/python3.11/site-packages/tensorflow/python/util/dispatch.py:1260: calling dropout (from tensorflow.python.ops.nn_ops) with keep_prob is deprecated and will be removed in a future version.\n",
      "Instructions for updating:\n",
      "Please use `rate` instead of `keep_prob`. Rate should be set to `rate = 1 - keep_prob`.\n",
      "WARNING: All log messages before absl::InitializeLog() is called are written to STDERR\n",
      "I0000 00:00:1730190911.819741 1061704 mlir_graph_optimization_pass.cc:401] MLIR V1 optimization pass is not enabled\n"
     ]
    },
    {
     "name": "stdout",
     "output_type": "stream",
     "text": [
      "epoch 0; iter: 0; batch classifier loss: 0.701825; batch adversarial loss: 0.549895\n",
      "epoch 1; iter: 0; batch classifier loss: 0.687687; batch adversarial loss: 0.569857\n",
      "epoch 2; iter: 0; batch classifier loss: 0.696842; batch adversarial loss: 0.570117\n",
      "epoch 3; iter: 0; batch classifier loss: 0.675304; batch adversarial loss: 0.577377\n",
      "epoch 4; iter: 0; batch classifier loss: 0.685399; batch adversarial loss: 0.585737\n",
      "epoch 5; iter: 0; batch classifier loss: 0.711589; batch adversarial loss: 0.586949\n",
      "epoch 6; iter: 0; batch classifier loss: 0.700205; batch adversarial loss: 0.601335\n",
      "epoch 7; iter: 0; batch classifier loss: 0.714572; batch adversarial loss: 0.613335\n",
      "epoch 8; iter: 0; batch classifier loss: 0.736225; batch adversarial loss: 0.620593\n",
      "epoch 9; iter: 0; batch classifier loss: 0.803118; batch adversarial loss: 0.618613\n",
      "epoch 10; iter: 0; batch classifier loss: 0.750775; batch adversarial loss: 0.633211\n",
      "epoch 11; iter: 0; batch classifier loss: 0.784473; batch adversarial loss: 0.640590\n",
      "epoch 12; iter: 0; batch classifier loss: 0.781467; batch adversarial loss: 0.648415\n",
      "epoch 13; iter: 0; batch classifier loss: 0.794600; batch adversarial loss: 0.652625\n",
      "epoch 14; iter: 0; batch classifier loss: 0.801780; batch adversarial loss: 0.655696\n",
      "epoch 15; iter: 0; batch classifier loss: 0.869218; batch adversarial loss: 0.660995\n",
      "epoch 16; iter: 0; batch classifier loss: 0.859644; batch adversarial loss: 0.662571\n",
      "epoch 17; iter: 0; batch classifier loss: 0.904080; batch adversarial loss: 0.666881\n",
      "epoch 18; iter: 0; batch classifier loss: 0.959790; batch adversarial loss: 0.670716\n",
      "epoch 19; iter: 0; batch classifier loss: 0.929604; batch adversarial loss: 0.673775\n",
      "epoch 20; iter: 0; batch classifier loss: 0.929987; batch adversarial loss: 0.672940\n",
      "epoch 21; iter: 0; batch classifier loss: 0.983187; batch adversarial loss: 0.676484\n",
      "epoch 22; iter: 0; batch classifier loss: 0.956666; batch adversarial loss: 0.676884\n",
      "epoch 23; iter: 0; batch classifier loss: 1.070081; batch adversarial loss: 0.678237\n",
      "epoch 24; iter: 0; batch classifier loss: 1.135726; batch adversarial loss: 0.680258\n",
      "epoch 25; iter: 0; batch classifier loss: 1.063194; batch adversarial loss: 0.680286\n",
      "epoch 26; iter: 0; batch classifier loss: 1.055024; batch adversarial loss: 0.682386\n",
      "epoch 27; iter: 0; batch classifier loss: 0.975051; batch adversarial loss: 0.682848\n",
      "epoch 28; iter: 0; batch classifier loss: 1.025386; batch adversarial loss: 0.682500\n",
      "epoch 29; iter: 0; batch classifier loss: 1.072592; batch adversarial loss: 0.684086\n",
      "epoch 30; iter: 0; batch classifier loss: 0.978389; batch adversarial loss: 0.684250\n",
      "epoch 31; iter: 0; batch classifier loss: 1.019458; batch adversarial loss: 0.684596\n",
      "epoch 32; iter: 0; batch classifier loss: 1.212050; batch adversarial loss: 0.685631\n",
      "epoch 33; iter: 0; batch classifier loss: 1.178626; batch adversarial loss: 0.686026\n",
      "epoch 34; iter: 0; batch classifier loss: 1.090590; batch adversarial loss: 0.686315\n",
      "epoch 35; iter: 0; batch classifier loss: 1.181019; batch adversarial loss: 0.686630\n",
      "epoch 36; iter: 0; batch classifier loss: 0.971667; batch adversarial loss: 0.685261\n",
      "epoch 37; iter: 0; batch classifier loss: 1.257627; batch adversarial loss: 0.687842\n",
      "epoch 38; iter: 0; batch classifier loss: 1.118849; batch adversarial loss: 0.686886\n",
      "epoch 39; iter: 0; batch classifier loss: 1.247405; batch adversarial loss: 0.687322\n",
      "epoch 40; iter: 0; batch classifier loss: 1.042948; batch adversarial loss: 0.685513\n",
      "epoch 41; iter: 0; batch classifier loss: 1.082410; batch adversarial loss: 0.686680\n",
      "epoch 42; iter: 0; batch classifier loss: 1.069081; batch adversarial loss: 0.686855\n",
      "epoch 43; iter: 0; batch classifier loss: 1.243272; batch adversarial loss: 0.687945\n",
      "epoch 44; iter: 0; batch classifier loss: 1.198750; batch adversarial loss: 0.687616\n",
      "epoch 45; iter: 0; batch classifier loss: 1.209432; batch adversarial loss: 0.687553\n",
      "epoch 46; iter: 0; batch classifier loss: 1.346010; batch adversarial loss: 0.689049\n",
      "epoch 47; iter: 0; batch classifier loss: 1.284637; batch adversarial loss: 0.688626\n",
      "epoch 48; iter: 0; batch classifier loss: 1.178027; batch adversarial loss: 0.687784\n",
      "epoch 49; iter: 0; batch classifier loss: 1.183089; batch adversarial loss: 0.687942\n"
     ]
    },
    {
     "data": {
      "text/plain": [
       "<aif360.algorithms.inprocessing.adversarial_debiasing.AdversarialDebiasing at 0x12ebd15d0>"
      ]
     },
     "execution_count": 12,
     "metadata": {},
     "output_type": "execute_result"
    }
   ],
   "source": [
    "# Train the model\n",
    "adv_debiasing.fit(train_reweighed)"
   ]
  },
  {
   "cell_type": "markdown",
   "metadata": {},
   "source": [
    "### Make Predictions with the Trained Model"
   ]
  },
  {
   "cell_type": "code",
   "execution_count": 13,
   "metadata": {},
   "outputs": [],
   "source": [
    "# Predict on test data\n",
    "predictions = adv_debiasing.predict(test)\n"
   ]
  },
  {
   "cell_type": "markdown",
   "metadata": {},
   "source": [
    "### Evaluate the Model's Fairness and Performance after In Processing"
   ]
  },
  {
   "cell_type": "markdown",
   "metadata": {},
   "source": [
    "#### Performance Evaluation - Accuracy"
   ]
  },
  {
   "cell_type": "code",
   "execution_count": 14,
   "metadata": {},
   "outputs": [
    {
     "name": "stdout",
     "output_type": "stream",
     "text": [
      "Test Accuracy: 0.6207\n"
     ]
    }
   ],
   "source": [
    "from sklearn.metrics import accuracy_score\n",
    "\n",
    "# Calculate accuracy\n",
    "test_labels = test.labels\n",
    "pred_labels = predictions.labels\n",
    "\n",
    "accuracy = accuracy_score(test_labels, pred_labels)\n",
    "print(f\"Test Accuracy: {accuracy:.4f}\")\n"
   ]
  },
  {
   "cell_type": "code",
   "execution_count": 15,
   "metadata": {},
   "outputs": [
    {
     "name": "stdout",
     "output_type": "stream",
     "text": [
      "Test Accuracy (Pre Post-processing): 0.6207\n"
     ]
    }
   ],
   "source": [
    "# Accuracy\n",
    "accuracy_pre = accuracy_score(test.labels, predictions.labels)\n",
    "print(f\"Test Accuracy (Pre Post-processing): {accuracy_pre:.4f}\")"
   ]
  },
  {
   "cell_type": "markdown",
   "metadata": {},
   "source": [
    "#### Fairness Evaluation"
   ]
  },
  {
   "cell_type": "code",
   "execution_count": 16,
   "metadata": {},
   "outputs": [],
   "source": [
    "from aif360.metrics import ClassificationMetric\n",
    "\n",
    "# Compute fairness metrics\n",
    "metric = ClassificationMetric(test, predictions,\n",
    "                              unprivileged_groups=[{'Gender': 0}],\n",
    "                              privileged_groups=[{'Gender': 1}])"
   ]
  },
  {
   "cell_type": "markdown",
   "metadata": {},
   "source": [
    "#### Fairness: Disparate Impact and Equal Opportunity Difference"
   ]
  },
  {
   "cell_type": "code",
   "execution_count": 21,
   "metadata": {},
   "outputs": [
    {
     "ename": "AttributeError",
     "evalue": "'BinaryLabelDatasetMetric' object has no attribute 'equal_opportunity_difference'",
     "output_type": "error",
     "traceback": [
      "\u001b[0;31m---------------------------------------------------------------------------\u001b[0m",
      "\u001b[0;31mAttributeError\u001b[0m                            Traceback (most recent call last)",
      "Cell \u001b[0;32mIn[21], line 10\u001b[0m\n\u001b[1;32m      4\u001b[0m metric_pre \u001b[38;5;241m=\u001b[39m BinaryLabelDatasetMetric(data,\n\u001b[1;32m      5\u001b[0m                                        unprivileged_groups\u001b[38;5;241m=\u001b[39m[{\u001b[38;5;124m'\u001b[39m\u001b[38;5;124mGender\u001b[39m\u001b[38;5;124m'\u001b[39m: \u001b[38;5;241m0\u001b[39m}],  \u001b[38;5;66;03m# Unprivileged group: Male\u001b[39;00m\n\u001b[1;32m      6\u001b[0m                                        privileged_groups\u001b[38;5;241m=\u001b[39m[{\u001b[38;5;124m'\u001b[39m\u001b[38;5;124mGender\u001b[39m\u001b[38;5;124m'\u001b[39m: \u001b[38;5;241m1\u001b[39m}])    \u001b[38;5;66;03m# Privileged group: Female\u001b[39;00m\n\u001b[1;32m      9\u001b[0m disparate_impact_pre \u001b[38;5;241m=\u001b[39m metric_pre\u001b[38;5;241m.\u001b[39mdisparate_impact()\n\u001b[0;32m---> 10\u001b[0m equal_opportunity_pre \u001b[38;5;241m=\u001b[39m metric_pre\u001b[38;5;241m.\u001b[39mequal_opportunity_difference()\n\u001b[1;32m     12\u001b[0m \u001b[38;5;28mprint\u001b[39m(\u001b[38;5;124mf\u001b[39m\u001b[38;5;124m\"\u001b[39m\u001b[38;5;124mDisparate Impact (Pre Post-processing): \u001b[39m\u001b[38;5;132;01m{\u001b[39;00mdisparate_impact_pre\u001b[38;5;132;01m}\u001b[39;00m\u001b[38;5;124m\"\u001b[39m)\n\u001b[1;32m     13\u001b[0m \u001b[38;5;28mprint\u001b[39m(\u001b[38;5;124mf\u001b[39m\u001b[38;5;124m\"\u001b[39m\u001b[38;5;124mEqual Opportunity Difference (Pre Post-processing): \u001b[39m\u001b[38;5;132;01m{\u001b[39;00mequal_opportunity_pre\u001b[38;5;132;01m}\u001b[39;00m\u001b[38;5;124m\"\u001b[39m)\n",
      "\u001b[0;31mAttributeError\u001b[0m: 'BinaryLabelDatasetMetric' object has no attribute 'equal_opportunity_difference'"
     ]
    }
   ],
   "source": [
    "from aif360.metrics import BinaryLabelDatasetMetric\n",
    "# Assuming 'data' is your original dataset in AIF360's BinaryLabelDataset format\n",
    "# Calculate metrics for the original dataset\n",
    "metric_pre = BinaryLabelDatasetMetric(data,\n",
    "                                       unprivileged_groups=[{'Gender': 0}],  # Unprivileged group: Male\n",
    "                                       privileged_groups=[{'Gender': 1}])    # Privileged group: Female\n",
    "\n",
    "\n",
    "disparate_impact_pre = metric_pre.disparate_impact()\n",
    "equal_opportunity_pre = metric_pre.equal_opportunity_difference()\n",
    "\n",
    "print(f\"Disparate Impact (Pre Post-processing): {disparate_impact_pre}\")\n",
    "print(f\"Equal Opportunity Difference (Pre Post-processing): {equal_opportunity_pre}\")"
   ]
  },
  {
   "cell_type": "code",
   "execution_count": 22,
   "metadata": {},
   "outputs": [
    {
     "ename": "AttributeError",
     "evalue": "'BinaryLabelDatasetMetric' object has no attribute 'true_positive_rate'",
     "output_type": "error",
     "traceback": [
      "\u001b[0;31m---------------------------------------------------------------------------\u001b[0m",
      "\u001b[0;31mAttributeError\u001b[0m                            Traceback (most recent call last)",
      "Cell \u001b[0;32mIn[22], line 13\u001b[0m\n\u001b[1;32m     10\u001b[0m disparate_impact_pre \u001b[38;5;241m=\u001b[39m metric_pre\u001b[38;5;241m.\u001b[39mdisparate_impact()\n\u001b[1;32m     12\u001b[0m \u001b[38;5;66;03m# Manually calculate the Equal Opportunity Difference\u001b[39;00m\n\u001b[0;32m---> 13\u001b[0m tpr_privileged_pre \u001b[38;5;241m=\u001b[39m metric_pre\u001b[38;5;241m.\u001b[39mtrue_positive_rate()\n\u001b[1;32m     14\u001b[0m tpr_unprivileged_pre \u001b[38;5;241m=\u001b[39m metric_pre\u001b[38;5;241m.\u001b[39mtrue_positive_rate()\n\u001b[1;32m     15\u001b[0m equal_opportunity_pre \u001b[38;5;241m=\u001b[39m tpr_privileged_pre \u001b[38;5;241m-\u001b[39m tpr_unprivileged_pre\n",
      "\u001b[0;31mAttributeError\u001b[0m: 'BinaryLabelDatasetMetric' object has no attribute 'true_positive_rate'"
     ]
    }
   ],
   "source": [
    "from aif360.metrics import BinaryLabelDatasetMetric\n",
    "\n",
    "# Assuming 'data' is your original dataset in AIF360's BinaryLabelDataset format\n",
    "# Calculate metrics for the original dataset\n",
    "metric_pre = BinaryLabelDatasetMetric(data,\n",
    "                                       unprivileged_groups=[{'Gender': 0}],  # Unprivileged group: Male\n",
    "                                       privileged_groups=[{'Gender': 1}])    # Privileged group: Female\n",
    "\n",
    "# Calculate metrics before debiasing\n",
    "disparate_impact_pre = metric_pre.disparate_impact()\n",
    "\n",
    "# Manually calculate the Equal Opportunity Difference\n",
    "tpr_privileged_pre = metric_pre.true_positive_rate()\n",
    "tpr_unprivileged_pre = metric_pre.true_positive_rate()\n",
    "equal_opportunity_pre = tpr_privileged_pre - tpr_unprivileged_pre\n",
    "\n",
    "print(f\"Disparate Impact (Pre Post-processing): {disparate_impact_pre}\")\n",
    "print(f\"Equal Opportunity Difference (Pre Post-processing): {equal_opportunity_pre}\")\n",
    "\n",
    "# After applying debiasing, use the predictions to calculate the same metrics\n",
    "# Assuming `predictions` is the predicted output from your debiased model\n",
    "predicted_dataset = data.copy()  # Create a copy of the original dataset\n",
    "predicted_dataset.labels = predictions  # Replace the labels with your model's predictions\n",
    "\n",
    "# Calculate metrics for the predicted dataset\n",
    "metric_post = BinaryLabelDatasetMetric(predicted_dataset,\n",
    "                                        unprivileged_groups=[{'Gender': 0}],  # Unprivileged group: Male\n",
    "                                        privileged_groups=[{'Gender': 1}])    # Privileged group: Female\n",
    "\n",
    "# Calculate metrics after debiasing\n",
    "disparate_impact_post = metric_post.disparate_impact()\n",
    "\n",
    "# Manually calculate the Equal Opportunity Difference for the post-processed dataset\n",
    "tpr_privileged_post = metric_post.true_positive_rate()\n",
    "tpr_unprivileged_post = metric_post.true_positive_rate()\n",
    "equal_opportunity_post = tpr_privileged_post - tpr_unprivileged_post\n",
    "\n",
    "print(f\"Disparate Impact (Post Post-processing): {disparate_impact_post}\")\n",
    "print(f\"Equal Opportunity Difference (Post Post-processing): {equal_opportunity_post}\")"
   ]
  },
  {
   "cell_type": "code",
   "execution_count": null,
   "metadata": {},
   "outputs": [],
   "source": []
  },
  {
   "cell_type": "code",
   "execution_count": null,
   "metadata": {},
   "outputs": [],
   "source": []
  },
  {
   "cell_type": "code",
   "execution_count": null,
   "metadata": {},
   "outputs": [],
   "source": []
  },
  {
   "cell_type": "code",
   "execution_count": null,
   "metadata": {},
   "outputs": [],
   "source": []
  },
  {
   "cell_type": "code",
   "execution_count": null,
   "metadata": {},
   "outputs": [],
   "source": []
  },
  {
   "cell_type": "code",
   "execution_count": 18,
   "metadata": {},
   "outputs": [
    {
     "name": "stdout",
     "output_type": "stream",
     "text": [
      "Demographic Parity Difference: nan\n",
      "Equal Opportunity Difference: nan\n"
     ]
    },
    {
     "name": "stderr",
     "output_type": "stream",
     "text": [
      "/Users/kashishvarmaa/Documents/5 Sem/DL/Bias_Mitigation/.conda/lib/python3.11/site-packages/aif360/metrics/dataset_metric.py:82: RuntimeWarning: invalid value encountered in scalar divide\n",
      "  return metric_fun(privileged=False) / metric_fun(privileged=True)\n",
      "/Users/kashishvarmaa/Documents/5 Sem/DL/Bias_Mitigation/.conda/lib/python3.11/site-packages/aif360/metrics/classification_metric.py:278: RuntimeWarning: invalid value encountered in scalar divide\n",
      "  TPR=TP / P, TNR=TN / N, FPR=FP / N, FNR=FN / P,\n",
      "/Users/kashishvarmaa/Documents/5 Sem/DL/Bias_Mitigation/.conda/lib/python3.11/site-packages/aif360/metrics/classification_metric.py:279: RuntimeWarning: invalid value encountered in scalar divide\n",
      "  GTPR=GTP / P, GTNR=GTN / N, GFPR=GFP / N, GFNR=GFN / P,\n"
     ]
    }
   ],
   "source": [
    "# Demographic parity\n",
    "print(f\"Demographic Parity Difference: {metric.disparate_impact()}\")\n",
    "\n",
    "# Equal opportunity difference\n",
    "print(f\"Equal Opportunity Difference: {metric.equal_opportunity_difference()}\")"
   ]
  },
  {
   "cell_type": "markdown",
   "metadata": {},
   "source": [
    "### Post Processing - Equalized Odds Post-processing"
   ]
  },
  {
   "cell_type": "code",
   "execution_count": 19,
   "metadata": {},
   "outputs": [
    {
     "name": "stderr",
     "output_type": "stream",
     "text": [
      "/Users/kashishvarmaa/Documents/5 Sem/DL/Bias_Mitigation/.conda/lib/python3.11/site-packages/aif360/algorithms/postprocessing/eq_odds_postprocessing.py:177: RuntimeWarning: invalid value encountered in scalar divide\n",
      "  (np.mean(oflip*om_tp) - np.mean(oconst*om_tp)) / obr,\n",
      "/Users/kashishvarmaa/Documents/5 Sem/DL/Bias_Mitigation/.conda/lib/python3.11/site-packages/aif360/algorithms/postprocessing/eq_odds_postprocessing.py:178: RuntimeWarning: invalid value encountered in scalar divide\n",
      "  (np.mean(oconst*om_fn) - np.mean(oflip*om_fn)) / obr],\n",
      "/Users/kashishvarmaa/Documents/5 Sem/DL/Bias_Mitigation/.conda/lib/python3.11/site-packages/aif360/algorithms/postprocessing/eq_odds_postprocessing.py:179: RuntimeWarning: invalid value encountered in scalar divide\n",
      "  [(np.mean(sconst*sm_fp) - np.mean(sflip*sm_fp)) / (1-sbr),\n",
      "/Users/kashishvarmaa/Documents/5 Sem/DL/Bias_Mitigation/.conda/lib/python3.11/site-packages/aif360/algorithms/postprocessing/eq_odds_postprocessing.py:180: RuntimeWarning: invalid value encountered in scalar divide\n",
      "  (np.mean(sflip*sm_tn) - np.mean(sconst*sm_tn)) / (1-sbr),\n",
      "/Users/kashishvarmaa/Documents/5 Sem/DL/Bias_Mitigation/.conda/lib/python3.11/site-packages/aif360/algorithms/postprocessing/eq_odds_postprocessing.py:184: RuntimeWarning: invalid value encountered in scalar divide\n",
      "  b_eq = [(np.mean(oflip*om_tp) + np.mean(oconst*om_fn)) / obr\n",
      "/Users/kashishvarmaa/Documents/5 Sem/DL/Bias_Mitigation/.conda/lib/python3.11/site-packages/aif360/algorithms/postprocessing/eq_odds_postprocessing.py:187: RuntimeWarning: invalid value encountered in scalar divide\n",
      "  - (np.mean(sflip*sm_fp) + np.mean(sconst*sm_tn)) / (1-sbr)]\n"
     ]
    },
    {
     "ename": "ValueError",
     "evalue": "Invalid input for linprog: c must not contain values inf, nan, or None",
     "output_type": "error",
     "traceback": [
      "\u001b[0;31m---------------------------------------------------------------------------\u001b[0m",
      "\u001b[0;31mValueError\u001b[0m                                Traceback (most recent call last)",
      "Cell \u001b[0;32mIn[19], line 4\u001b[0m\n\u001b[1;32m      1\u001b[0m eq_odds \u001b[38;5;241m=\u001b[39m EqOddsPostprocessing(privileged_groups\u001b[38;5;241m=\u001b[39m[{\u001b[38;5;124m'\u001b[39m\u001b[38;5;124mGender\u001b[39m\u001b[38;5;124m'\u001b[39m: \u001b[38;5;241m1\u001b[39m}], \n\u001b[1;32m      2\u001b[0m                                unprivileged_groups\u001b[38;5;241m=\u001b[39m[{\u001b[38;5;124m'\u001b[39m\u001b[38;5;124mGender\u001b[39m\u001b[38;5;124m'\u001b[39m: \u001b[38;5;241m0\u001b[39m}])\n\u001b[0;32m----> 4\u001b[0m predictions_post \u001b[38;5;241m=\u001b[39m eq_odds\u001b[38;5;241m.\u001b[39mfit_predict(test, predictions)\n",
      "File \u001b[0;32m~/Documents/5 Sem/DL/Bias_Mitigation/.conda/lib/python3.11/site-packages/aif360/algorithms/transformer.py:27\u001b[0m, in \u001b[0;36maddmetadata.<locals>.wrapper\u001b[0;34m(self, *args, **kwargs)\u001b[0m\n\u001b[1;32m     25\u001b[0m \u001b[38;5;129m@wraps\u001b[39m(func)\n\u001b[1;32m     26\u001b[0m \u001b[38;5;28;01mdef\u001b[39;00m \u001b[38;5;21mwrapper\u001b[39m(\u001b[38;5;28mself\u001b[39m, \u001b[38;5;241m*\u001b[39margs, \u001b[38;5;241m*\u001b[39m\u001b[38;5;241m*\u001b[39mkwargs):\n\u001b[0;32m---> 27\u001b[0m     new_dataset \u001b[38;5;241m=\u001b[39m func(\u001b[38;5;28mself\u001b[39m, \u001b[38;5;241m*\u001b[39margs, \u001b[38;5;241m*\u001b[39m\u001b[38;5;241m*\u001b[39mkwargs)\n\u001b[1;32m     28\u001b[0m     \u001b[38;5;28;01mif\u001b[39;00m \u001b[38;5;28misinstance\u001b[39m(new_dataset, Dataset):\n\u001b[1;32m     29\u001b[0m         new_dataset\u001b[38;5;241m.\u001b[39mmetadata \u001b[38;5;241m=\u001b[39m new_dataset\u001b[38;5;241m.\u001b[39mmetadata\u001b[38;5;241m.\u001b[39mcopy()\n",
      "File \u001b[0;32m~/Documents/5 Sem/DL/Bias_Mitigation/.conda/lib/python3.11/site-packages/aif360/algorithms/postprocessing/eq_odds_postprocessing.py:257\u001b[0m, in \u001b[0;36mEqOddsPostprocessing.fit_predict\u001b[0;34m(self, dataset_true, dataset_pred)\u001b[0m\n\u001b[1;32m    255\u001b[0m \u001b[38;5;28;01mdef\u001b[39;00m \u001b[38;5;21mfit_predict\u001b[39m(\u001b[38;5;28mself\u001b[39m, dataset_true, dataset_pred):\n\u001b[1;32m    256\u001b[0m \u001b[38;5;250m    \u001b[39m\u001b[38;5;124;03m\"\"\"fit and predict methods sequentially.\"\"\"\u001b[39;00m\n\u001b[0;32m--> 257\u001b[0m     \u001b[38;5;28;01mreturn\u001b[39;00m \u001b[38;5;28mself\u001b[39m\u001b[38;5;241m.\u001b[39mfit(dataset_true, dataset_pred)\u001b[38;5;241m.\u001b[39mpredict(dataset_pred)\n",
      "File \u001b[0;32m~/Documents/5 Sem/DL/Bias_Mitigation/.conda/lib/python3.11/site-packages/aif360/algorithms/transformer.py:27\u001b[0m, in \u001b[0;36maddmetadata.<locals>.wrapper\u001b[0;34m(self, *args, **kwargs)\u001b[0m\n\u001b[1;32m     25\u001b[0m \u001b[38;5;129m@wraps\u001b[39m(func)\n\u001b[1;32m     26\u001b[0m \u001b[38;5;28;01mdef\u001b[39;00m \u001b[38;5;21mwrapper\u001b[39m(\u001b[38;5;28mself\u001b[39m, \u001b[38;5;241m*\u001b[39margs, \u001b[38;5;241m*\u001b[39m\u001b[38;5;241m*\u001b[39mkwargs):\n\u001b[0;32m---> 27\u001b[0m     new_dataset \u001b[38;5;241m=\u001b[39m func(\u001b[38;5;28mself\u001b[39m, \u001b[38;5;241m*\u001b[39margs, \u001b[38;5;241m*\u001b[39m\u001b[38;5;241m*\u001b[39mkwargs)\n\u001b[1;32m     28\u001b[0m     \u001b[38;5;28;01mif\u001b[39;00m \u001b[38;5;28misinstance\u001b[39m(new_dataset, Dataset):\n\u001b[1;32m     29\u001b[0m         new_dataset\u001b[38;5;241m.\u001b[39mmetadata \u001b[38;5;241m=\u001b[39m new_dataset\u001b[38;5;241m.\u001b[39mmetadata\u001b[38;5;241m.\u001b[39mcopy()\n",
      "File \u001b[0;32m~/Documents/5 Sem/DL/Bias_Mitigation/.conda/lib/python3.11/site-packages/aif360/algorithms/postprocessing/eq_odds_postprocessing.py:190\u001b[0m, in \u001b[0;36mEqOddsPostprocessing.fit\u001b[0;34m(self, dataset_true, dataset_pred)\u001b[0m\n\u001b[1;32m    184\u001b[0m b_eq \u001b[38;5;241m=\u001b[39m [(np\u001b[38;5;241m.\u001b[39mmean(oflip\u001b[38;5;241m*\u001b[39mom_tp) \u001b[38;5;241m+\u001b[39m np\u001b[38;5;241m.\u001b[39mmean(oconst\u001b[38;5;241m*\u001b[39mom_fn)) \u001b[38;5;241m/\u001b[39m obr\n\u001b[1;32m    185\u001b[0m       \u001b[38;5;241m-\u001b[39m (np\u001b[38;5;241m.\u001b[39mmean(sflip\u001b[38;5;241m*\u001b[39msm_tp) \u001b[38;5;241m+\u001b[39m np\u001b[38;5;241m.\u001b[39mmean(sconst\u001b[38;5;241m*\u001b[39msm_fn)) \u001b[38;5;241m/\u001b[39m sbr,\n\u001b[1;32m    186\u001b[0m         (np\u001b[38;5;241m.\u001b[39mmean(oflip\u001b[38;5;241m*\u001b[39mom_fp) \u001b[38;5;241m+\u001b[39m np\u001b[38;5;241m.\u001b[39mmean(oconst\u001b[38;5;241m*\u001b[39mom_tn)) \u001b[38;5;241m/\u001b[39m (\u001b[38;5;241m1\u001b[39m\u001b[38;5;241m-\u001b[39mobr)\n\u001b[1;32m    187\u001b[0m       \u001b[38;5;241m-\u001b[39m (np\u001b[38;5;241m.\u001b[39mmean(sflip\u001b[38;5;241m*\u001b[39msm_fp) \u001b[38;5;241m+\u001b[39m np\u001b[38;5;241m.\u001b[39mmean(sconst\u001b[38;5;241m*\u001b[39msm_tn)) \u001b[38;5;241m/\u001b[39m (\u001b[38;5;241m1\u001b[39m\u001b[38;5;241m-\u001b[39msbr)]\n\u001b[1;32m    189\u001b[0m \u001b[38;5;66;03m# Linear program\u001b[39;00m\n\u001b[0;32m--> 190\u001b[0m \u001b[38;5;28mself\u001b[39m\u001b[38;5;241m.\u001b[39mmodel_params \u001b[38;5;241m=\u001b[39m linprog(c, A_ub\u001b[38;5;241m=\u001b[39mA_ub, b_ub\u001b[38;5;241m=\u001b[39mb_ub, A_eq\u001b[38;5;241m=\u001b[39mA_eq, b_eq\u001b[38;5;241m=\u001b[39mb_eq)\n\u001b[1;32m    192\u001b[0m \u001b[38;5;28;01mreturn\u001b[39;00m \u001b[38;5;28mself\u001b[39m\n",
      "File \u001b[0;32m~/Documents/5 Sem/DL/Bias_Mitigation/.conda/lib/python3.11/site-packages/scipy/optimize/_linprog.py:632\u001b[0m, in \u001b[0;36mlinprog\u001b[0;34m(c, A_ub, b_ub, A_eq, b_eq, bounds, method, callback, options, x0, integrality)\u001b[0m\n\u001b[1;32m    629\u001b[0m     integrality \u001b[38;5;241m=\u001b[39m \u001b[38;5;28;01mNone\u001b[39;00m\n\u001b[1;32m    631\u001b[0m lp \u001b[38;5;241m=\u001b[39m _LPProblem(c, A_ub, b_ub, A_eq, b_eq, bounds, x0, integrality)\n\u001b[0;32m--> 632\u001b[0m lp, solver_options \u001b[38;5;241m=\u001b[39m _parse_linprog(lp, options, meth)\n\u001b[1;32m    633\u001b[0m tol \u001b[38;5;241m=\u001b[39m solver_options\u001b[38;5;241m.\u001b[39mget(\u001b[38;5;124m'\u001b[39m\u001b[38;5;124mtol\u001b[39m\u001b[38;5;124m'\u001b[39m, \u001b[38;5;241m1e-9\u001b[39m)\n\u001b[1;32m    635\u001b[0m \u001b[38;5;66;03m# Give unmodified problem to HiGHS\u001b[39;00m\n",
      "File \u001b[0;32m~/Documents/5 Sem/DL/Bias_Mitigation/.conda/lib/python3.11/site-packages/scipy/optimize/_linprog_util.py:1026\u001b[0m, in \u001b[0;36m_parse_linprog\u001b[0;34m(lp, options, meth)\u001b[0m\n\u001b[1;32m   1023\u001b[0m solver_options, A_ub, A_eq \u001b[38;5;241m=\u001b[39m _check_sparse_inputs(solver_options, meth,\n\u001b[1;32m   1024\u001b[0m                                                   lp\u001b[38;5;241m.\u001b[39mA_ub, lp\u001b[38;5;241m.\u001b[39mA_eq)\n\u001b[1;32m   1025\u001b[0m \u001b[38;5;66;03m# Convert lists to numpy arrays, etc...\u001b[39;00m\n\u001b[0;32m-> 1026\u001b[0m lp \u001b[38;5;241m=\u001b[39m _clean_inputs(lp\u001b[38;5;241m.\u001b[39m_replace(A_ub\u001b[38;5;241m=\u001b[39mA_ub, A_eq\u001b[38;5;241m=\u001b[39mA_eq))\n\u001b[1;32m   1027\u001b[0m \u001b[38;5;28;01mreturn\u001b[39;00m lp, solver_options\n",
      "File \u001b[0;32m~/Documents/5 Sem/DL/Bias_Mitigation/.conda/lib/python3.11/site-packages/scipy/optimize/_linprog_util.py:306\u001b[0m, in \u001b[0;36m_clean_inputs\u001b[0;34m(lp)\u001b[0m\n\u001b[1;32m    302\u001b[0m         \u001b[38;5;28;01mraise\u001b[39;00m \u001b[38;5;167;01mValueError\u001b[39;00m(\n\u001b[1;32m    303\u001b[0m             \u001b[38;5;124m\"\u001b[39m\u001b[38;5;124mInvalid input for linprog: c must be a 1-D array and must \u001b[39m\u001b[38;5;124m\"\u001b[39m\n\u001b[1;32m    304\u001b[0m             \u001b[38;5;124m\"\u001b[39m\u001b[38;5;124mnot have more than one non-singleton dimension\u001b[39m\u001b[38;5;124m\"\u001b[39m)\n\u001b[1;32m    305\u001b[0m     \u001b[38;5;28;01mif\u001b[39;00m \u001b[38;5;129;01mnot\u001b[39;00m np\u001b[38;5;241m.\u001b[39misfinite(c)\u001b[38;5;241m.\u001b[39mall():\n\u001b[0;32m--> 306\u001b[0m         \u001b[38;5;28;01mraise\u001b[39;00m \u001b[38;5;167;01mValueError\u001b[39;00m(\n\u001b[1;32m    307\u001b[0m             \u001b[38;5;124m\"\u001b[39m\u001b[38;5;124mInvalid input for linprog: c must not contain values \u001b[39m\u001b[38;5;124m\"\u001b[39m\n\u001b[1;32m    308\u001b[0m             \u001b[38;5;124m\"\u001b[39m\u001b[38;5;124minf, nan, or None\u001b[39m\u001b[38;5;124m\"\u001b[39m)\n\u001b[1;32m    310\u001b[0m sparse_lhs \u001b[38;5;241m=\u001b[39m sps\u001b[38;5;241m.\u001b[39missparse(A_eq) \u001b[38;5;129;01mor\u001b[39;00m sps\u001b[38;5;241m.\u001b[39missparse(A_ub)\n\u001b[1;32m    311\u001b[0m \u001b[38;5;28;01mtry\u001b[39;00m:\n",
      "\u001b[0;31mValueError\u001b[0m: Invalid input for linprog: c must not contain values inf, nan, or None"
     ]
    }
   ],
   "source": [
    "eq_odds = EqOddsPostprocessing(privileged_groups=[{'Gender': 1}], \n",
    "                               unprivileged_groups=[{'Gender': 0}])\n",
    "\n",
    "predictions_post = eq_odds.fit_predict(test, predictions)"
   ]
  },
  {
   "cell_type": "markdown",
   "metadata": {},
   "source": [
    "### Evaluate Performance and Fairness After Post-processing"
   ]
  },
  {
   "cell_type": "markdown",
   "metadata": {},
   "source": [
    "#### Performance: Accuracy"
   ]
  },
  {
   "cell_type": "code",
   "execution_count": null,
   "metadata": {},
   "outputs": [],
   "source": [
    "\n",
    "accuracy_post = accuracy_score(test.labels, predictions_post.labels)\n",
    "print(f\"Test Accuracy (Post Post-processing): {accuracy_post:.4f}\")"
   ]
  },
  {
   "cell_type": "markdown",
   "metadata": {},
   "source": [
    "#### Fairness Metrics"
   ]
  },
  {
   "cell_type": "code",
   "execution_count": null,
   "metadata": {},
   "outputs": [],
   "source": [
    "\n",
    "metric_post = ClassificationMetric(test, predictions_post,\n",
    "                                   unprivileged_groups=[{'Gender': 0}],\n",
    "                                   privileged_groups=[{'Gender': 1}])"
   ]
  },
  {
   "cell_type": "markdown",
   "metadata": {},
   "source": [
    "#### Fairness: Disparate Impact and Equal Opportunity Difference"
   ]
  },
  {
   "cell_type": "code",
   "execution_count": null,
   "metadata": {},
   "outputs": [],
   "source": [
    "disparate_impact_post = metric_post.disparate_impact()\n",
    "equal_opportunity_post = metric_post.equal_opportunity_difference()\n",
    "\n",
    "print(f\"Disparate Impact (Post Post-processing): {disparate_impact_post}\")\n",
    "print(f\"Equal Opportunity Difference (Post Post-processing): {equal_opportunity_post}\")"
   ]
  },
  {
   "cell_type": "markdown",
   "metadata": {},
   "source": [
    "### Visualizing Bias Mitigation"
   ]
  },
  {
   "cell_type": "markdown",
   "metadata": {},
   "source": [
    "#### Plot Demographic Parity (Disparate Impact)"
   ]
  },
  {
   "cell_type": "code",
   "execution_count": null,
   "metadata": {},
   "outputs": [],
   "source": [
    "import matplotlib.pyplot as plt\n",
    "\n",
    "# Plot demographic parity difference\n",
    "plt.bar(['Demographic Parity Difference'], [metric.disparate_impact()])\n",
    "plt.title('Demographic Parity Difference')\n",
    "plt.show()\n",
    "\n",
    "# Plot equal opportunity difference\n",
    "plt.bar(['Equal Opportunity Difference'], [metric.equal_opportunity_difference()])\n",
    "plt.title('Equal Opportunity Difference')\n",
    "plt.show()\n"
   ]
  },
  {
   "cell_type": "markdown",
   "metadata": {},
   "source": [
    "#### Plot Equal Opportunity Difference"
   ]
  },
  {
   "cell_type": "code",
   "execution_count": null,
   "metadata": {},
   "outputs": [],
   "source": [
    "plt.bar(['Pre Post-processing', 'Post Post-processing'], [equal_opportunity_pre, equal_opportunity_post])\n",
    "plt.title('Equal Opportunity Difference')\n",
    "plt.ylabel('Equal Opportunity Difference')\n",
    "plt.show()"
   ]
  }
 ],
 "metadata": {
  "kernelspec": {
   "display_name": "Python 3",
   "language": "python",
   "name": "python3"
  },
  "language_info": {
   "codemirror_mode": {
    "name": "ipython",
    "version": 3
   },
   "file_extension": ".py",
   "mimetype": "text/x-python",
   "name": "python",
   "nbconvert_exporter": "python",
   "pygments_lexer": "ipython3",
   "version": "3.11.10"
  }
 },
 "nbformat": 4,
 "nbformat_minor": 2
}
